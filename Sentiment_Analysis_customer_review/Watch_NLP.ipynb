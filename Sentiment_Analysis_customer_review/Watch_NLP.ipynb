{
  "nbformat": 4,
  "nbformat_minor": 0,
  "metadata": {
    "colab": {
      "provenance": [],
      "authorship_tag": "ABX9TyMaMBFXlVSF9BspBmFaVodT",
      "include_colab_link": true
    },
    "kernelspec": {
      "name": "python3",
      "display_name": "Python 3"
    },
    "language_info": {
      "name": "python"
    }
  },
  "cells": [
    {
      "cell_type": "markdown",
      "metadata": {
        "id": "view-in-github",
        "colab_type": "text"
      },
      "source": [
        "<a href=\"https://colab.research.google.com/github/13apoorva/ML_DL_MINI_PROJECTS/blob/main/Sentiment_Analysis_customer_review/Watch_NLP.ipynb\" target=\"_parent\"><img src=\"https://colab.research.google.com/assets/colab-badge.svg\" alt=\"Open In Colab\"/></a>"
      ]
    },
    {
      "cell_type": "markdown",
      "source": [
        "**IMPORTING REQUIRED LIBRARIES**"
      ],
      "metadata": {
        "id": "qRt75h38bLzU"
      }
    },
    {
      "cell_type": "code",
      "execution_count": null,
      "metadata": {
        "id": "-k0K5UxMLLhw"
      },
      "outputs": [],
      "source": [
        "from bs4 import BeautifulSoup\n",
        "import requests\n",
        "import pandas as pd\n",
        "from time import sleep\n",
        "import re\n",
        "import csv\n",
        "import numpy as np\n",
        "import seaborn as sns\n",
        "import matplotlib.pyplot as plt"
      ]
    },
    {
      "cell_type": "markdown",
      "source": [
        "**SCRAPPED REVIEWER AND RATING DATA FROM FLIPKART USING THIS CODE AND CREATED A CSV FILE**"
      ],
      "metadata": {
        "id": "b1XppXsecXUH"
      }
    },
    {
      "cell_type": "code",
      "source": [
        "\n",
        "#review=[]\n",
        "#rating=[]\n",
        "#for i in range(1,72):\n",
        "  #url=\"https://www.flipkart.com/fastrack-38024pp25-minimalists-analog-watch-men/product-reviews/itmf3zhmxfzubhhq?pid=WATF2VTY73GHJ4PY&lid=LSTWATF2VTY73GHJ4PYCHX8J2&marketplace=FLIPKART&page=\"+str(i)\n",
        "  #response = requests.get(url)\n",
        "  #htmlcontent = response.content\n",
        "  #response = requests.get(url)\n",
        "  #htmlcontent = response.content\n",
        "  #soup = BeautifulSoup(htmlcontent,\"html.parser\")\n",
        "  #rev=soup.find_all('div',attrs={'class':'_6K-7Co'})\n",
        "  #rat=soup.find_all('div',attrs={'class':'_3LWZlK _1BLPMq _3B8WaH'})\n",
        "  #print(len(rev))\n",
        "  #for i in rev:\n",
        "    #review.append(i.text)\n",
        "  #for i in rat:\n",
        "    #rating.append(i.text)\n"
      ],
      "metadata": {
        "id": "BjwLLDHrLVMi"
      },
      "execution_count": null,
      "outputs": []
    },
    {
      "cell_type": "markdown",
      "source": [
        "**CREATED DATAFRAME AND CONVERTED INTO A CSV FILE**"
      ],
      "metadata": {
        "id": "VLl1eSTkbV4l"
      }
    },
    {
      "cell_type": "code",
      "source": [
        "#data={\"Review\": review,\"Rating\": rating}\n",
        "#df = pd.DataFrame.from_dict(data, orient='index')\n",
        "#df = df.transpose()"
      ],
      "metadata": {
        "id": "L0VpBuVlLo66"
      },
      "execution_count": null,
      "outputs": []
    },
    {
      "cell_type": "code",
      "source": [
        "#df.to_csv('NLP.csv')"
      ],
      "metadata": {
        "id": "wsZqpXrzPAlw"
      },
      "execution_count": null,
      "outputs": []
    },
    {
      "cell_type": "code",
      "source": [
        "df=pd.read_csv(\"/content/NLP.csv\")"
      ],
      "metadata": {
        "id": "sWRAEzJSbfd_"
      },
      "execution_count": null,
      "outputs": []
    },
    {
      "cell_type": "code",
      "source": [
        "df.head()"
      ],
      "metadata": {
        "colab": {
          "base_uri": "https://localhost:8080/",
          "height": 206
        },
        "id": "kP42lQOkL1S2",
        "outputId": "edad48ca-4b3d-4ab0-cbf3-09441426f81a"
      },
      "execution_count": null,
      "outputs": [
        {
          "output_type": "execute_result",
          "data": {
            "text/plain": [
              "                                              Review  Rating\n",
              "0  My best brand Fasttrack I like it is nice watc...     5.0\n",
              "1  This is very good midrange watch from Fastrack...     5.0\n",
              "2  Very very good product I liked it so much look...     4.0\n",
              "3  I really like big dials eventhough my parents ...     5.0\n",
              "4  Genuine product from fast track at affordable ...     5.0"
            ],
            "text/html": [
              "\n",
              "  <div id=\"df-fb296549-e916-4721-a1af-395495b99997\">\n",
              "    <div class=\"colab-df-container\">\n",
              "      <div>\n",
              "<style scoped>\n",
              "    .dataframe tbody tr th:only-of-type {\n",
              "        vertical-align: middle;\n",
              "    }\n",
              "\n",
              "    .dataframe tbody tr th {\n",
              "        vertical-align: top;\n",
              "    }\n",
              "\n",
              "    .dataframe thead th {\n",
              "        text-align: right;\n",
              "    }\n",
              "</style>\n",
              "<table border=\"1\" class=\"dataframe\">\n",
              "  <thead>\n",
              "    <tr style=\"text-align: right;\">\n",
              "      <th></th>\n",
              "      <th>Review</th>\n",
              "      <th>Rating</th>\n",
              "    </tr>\n",
              "  </thead>\n",
              "  <tbody>\n",
              "    <tr>\n",
              "      <th>0</th>\n",
              "      <td>My best brand Fasttrack I like it is nice watc...</td>\n",
              "      <td>5.0</td>\n",
              "    </tr>\n",
              "    <tr>\n",
              "      <th>1</th>\n",
              "      <td>This is very good midrange watch from Fastrack...</td>\n",
              "      <td>5.0</td>\n",
              "    </tr>\n",
              "    <tr>\n",
              "      <th>2</th>\n",
              "      <td>Very very good product I liked it so much look...</td>\n",
              "      <td>4.0</td>\n",
              "    </tr>\n",
              "    <tr>\n",
              "      <th>3</th>\n",
              "      <td>I really like big dials eventhough my parents ...</td>\n",
              "      <td>5.0</td>\n",
              "    </tr>\n",
              "    <tr>\n",
              "      <th>4</th>\n",
              "      <td>Genuine product from fast track at affordable ...</td>\n",
              "      <td>5.0</td>\n",
              "    </tr>\n",
              "  </tbody>\n",
              "</table>\n",
              "</div>\n",
              "      <button class=\"colab-df-convert\" onclick=\"convertToInteractive('df-fb296549-e916-4721-a1af-395495b99997')\"\n",
              "              title=\"Convert this dataframe to an interactive table.\"\n",
              "              style=\"display:none;\">\n",
              "        \n",
              "  <svg xmlns=\"http://www.w3.org/2000/svg\" height=\"24px\"viewBox=\"0 0 24 24\"\n",
              "       width=\"24px\">\n",
              "    <path d=\"M0 0h24v24H0V0z\" fill=\"none\"/>\n",
              "    <path d=\"M18.56 5.44l.94 2.06.94-2.06 2.06-.94-2.06-.94-.94-2.06-.94 2.06-2.06.94zm-11 1L8.5 8.5l.94-2.06 2.06-.94-2.06-.94L8.5 2.5l-.94 2.06-2.06.94zm10 10l.94 2.06.94-2.06 2.06-.94-2.06-.94-.94-2.06-.94 2.06-2.06.94z\"/><path d=\"M17.41 7.96l-1.37-1.37c-.4-.4-.92-.59-1.43-.59-.52 0-1.04.2-1.43.59L10.3 9.45l-7.72 7.72c-.78.78-.78 2.05 0 2.83L4 21.41c.39.39.9.59 1.41.59.51 0 1.02-.2 1.41-.59l7.78-7.78 2.81-2.81c.8-.78.8-2.07 0-2.86zM5.41 20L4 18.59l7.72-7.72 1.47 1.35L5.41 20z\"/>\n",
              "  </svg>\n",
              "      </button>\n",
              "      \n",
              "  <style>\n",
              "    .colab-df-container {\n",
              "      display:flex;\n",
              "      flex-wrap:wrap;\n",
              "      gap: 12px;\n",
              "    }\n",
              "\n",
              "    .colab-df-convert {\n",
              "      background-color: #E8F0FE;\n",
              "      border: none;\n",
              "      border-radius: 50%;\n",
              "      cursor: pointer;\n",
              "      display: none;\n",
              "      fill: #1967D2;\n",
              "      height: 32px;\n",
              "      padding: 0 0 0 0;\n",
              "      width: 32px;\n",
              "    }\n",
              "\n",
              "    .colab-df-convert:hover {\n",
              "      background-color: #E2EBFA;\n",
              "      box-shadow: 0px 1px 2px rgba(60, 64, 67, 0.3), 0px 1px 3px 1px rgba(60, 64, 67, 0.15);\n",
              "      fill: #174EA6;\n",
              "    }\n",
              "\n",
              "    [theme=dark] .colab-df-convert {\n",
              "      background-color: #3B4455;\n",
              "      fill: #D2E3FC;\n",
              "    }\n",
              "\n",
              "    [theme=dark] .colab-df-convert:hover {\n",
              "      background-color: #434B5C;\n",
              "      box-shadow: 0px 1px 3px 1px rgba(0, 0, 0, 0.15);\n",
              "      filter: drop-shadow(0px 1px 2px rgba(0, 0, 0, 0.3));\n",
              "      fill: #FFFFFF;\n",
              "    }\n",
              "  </style>\n",
              "\n",
              "      <script>\n",
              "        const buttonEl =\n",
              "          document.querySelector('#df-fb296549-e916-4721-a1af-395495b99997 button.colab-df-convert');\n",
              "        buttonEl.style.display =\n",
              "          google.colab.kernel.accessAllowed ? 'block' : 'none';\n",
              "\n",
              "        async function convertToInteractive(key) {\n",
              "          const element = document.querySelector('#df-fb296549-e916-4721-a1af-395495b99997');\n",
              "          const dataTable =\n",
              "            await google.colab.kernel.invokeFunction('convertToInteractive',\n",
              "                                                     [key], {});\n",
              "          if (!dataTable) return;\n",
              "\n",
              "          const docLinkHtml = 'Like what you see? Visit the ' +\n",
              "            '<a target=\"_blank\" href=https://colab.research.google.com/notebooks/data_table.ipynb>data table notebook</a>'\n",
              "            + ' to learn more about interactive tables.';\n",
              "          element.innerHTML = '';\n",
              "          dataTable['output_type'] = 'display_data';\n",
              "          await google.colab.output.renderOutput(dataTable, element);\n",
              "          const docLink = document.createElement('div');\n",
              "          docLink.innerHTML = docLinkHtml;\n",
              "          element.appendChild(docLink);\n",
              "        }\n",
              "      </script>\n",
              "    </div>\n",
              "  </div>\n",
              "  "
            ]
          },
          "metadata": {},
          "execution_count": 16
        }
      ]
    },
    {
      "cell_type": "code",
      "source": [
        "df.shape"
      ],
      "metadata": {
        "colab": {
          "base_uri": "https://localhost:8080/"
        },
        "id": "Y3U8g7xUNzpm",
        "outputId": "fba78fe6-2deb-4ca4-85d7-25759211edd5"
      },
      "execution_count": null,
      "outputs": [
        {
          "output_type": "execute_result",
          "data": {
            "text/plain": [
              "(710, 2)"
            ]
          },
          "metadata": {},
          "execution_count": 17
        }
      ]
    },
    {
      "cell_type": "code",
      "source": [
        "df.isnull().sum()"
      ],
      "metadata": {
        "colab": {
          "base_uri": "https://localhost:8080/"
        },
        "id": "HDEsxxJkN2h_",
        "outputId": "ae1a519e-e120-4d40-c6bc-2263673a77c8"
      },
      "execution_count": null,
      "outputs": [
        {
          "output_type": "execute_result",
          "data": {
            "text/plain": [
              "Review     0\n",
              "Rating    39\n",
              "dtype: int64"
            ]
          },
          "metadata": {},
          "execution_count": 18
        }
      ]
    },
    {
      "cell_type": "code",
      "source": [
        "df['Rating']"
      ],
      "metadata": {
        "colab": {
          "base_uri": "https://localhost:8080/"
        },
        "id": "mcbCDXn7OCfb",
        "outputId": "e7bdf03e-89be-427a-9919-4f7be881a76e"
      },
      "execution_count": null,
      "outputs": [
        {
          "output_type": "execute_result",
          "data": {
            "text/plain": [
              "0      5.0\n",
              "1      5.0\n",
              "2      4.0\n",
              "3      5.0\n",
              "4      5.0\n",
              "      ... \n",
              "705    NaN\n",
              "706    NaN\n",
              "707    NaN\n",
              "708    NaN\n",
              "709    NaN\n",
              "Name: Rating, Length: 710, dtype: float64"
            ]
          },
          "metadata": {},
          "execution_count": 19
        }
      ]
    },
    {
      "cell_type": "code",
      "source": [
        "df.isnull().sum()"
      ],
      "metadata": {
        "colab": {
          "base_uri": "https://localhost:8080/"
        },
        "id": "vveZH4d7OGIv",
        "outputId": "f0a36434-994e-4b78-a784-4b8f3eb26567"
      },
      "execution_count": null,
      "outputs": [
        {
          "output_type": "execute_result",
          "data": {
            "text/plain": [
              "Review     0\n",
              "Rating    39\n",
              "dtype: int64"
            ]
          },
          "metadata": {},
          "execution_count": 20
        }
      ]
    },
    {
      "cell_type": "code",
      "source": [
        "df[\"Rating\"].value_counts()"
      ],
      "metadata": {
        "colab": {
          "base_uri": "https://localhost:8080/"
        },
        "id": "-Yjz1-MvOJt7",
        "outputId": "48a115d6-93af-406e-835f-e4ce564c6736"
      },
      "execution_count": null,
      "outputs": [
        {
          "output_type": "execute_result",
          "data": {
            "text/plain": [
              "5.0    507\n",
              "4.0    131\n",
              "3.0     33\n",
              "Name: Rating, dtype: int64"
            ]
          },
          "metadata": {},
          "execution_count": 21
        }
      ]
    },
    {
      "cell_type": "code",
      "source": [
        "df.info()"
      ],
      "metadata": {
        "colab": {
          "base_uri": "https://localhost:8080/"
        },
        "id": "7smzwmNQUVIs",
        "outputId": "74df8a07-f716-466b-c1a0-1fe36b21bcfe"
      },
      "execution_count": null,
      "outputs": [
        {
          "output_type": "stream",
          "name": "stdout",
          "text": [
            "<class 'pandas.core.frame.DataFrame'>\n",
            "RangeIndex: 710 entries, 0 to 709\n",
            "Data columns (total 2 columns):\n",
            " #   Column  Non-Null Count  Dtype  \n",
            "---  ------  --------------  -----  \n",
            " 0   Review  710 non-null    object \n",
            " 1   Rating  671 non-null    float64\n",
            "dtypes: float64(1), object(1)\n",
            "memory usage: 11.2+ KB\n"
          ]
        }
      ]
    },
    {
      "cell_type": "code",
      "source": [
        "mode_Rating = df[\"Rating\"].mode()\n",
        "mode_Rating"
      ],
      "metadata": {
        "colab": {
          "base_uri": "https://localhost:8080/"
        },
        "id": "ol4dhJiJSj3W",
        "outputId": "e12d47fa-25be-45ba-d116-ff444ef28ee6"
      },
      "execution_count": null,
      "outputs": [
        {
          "output_type": "execute_result",
          "data": {
            "text/plain": [
              "0    5.0\n",
              "dtype: float64"
            ]
          },
          "metadata": {},
          "execution_count": 23
        }
      ]
    },
    {
      "cell_type": "code",
      "source": [
        "Rating_temp=df.copy()\n",
        "Rating_temp[\"Rating\"] = Rating_temp[\"Rating\"].fillna(mode_Rating)\n",
        "Rating_temp.isnull().sum()"
      ],
      "metadata": {
        "colab": {
          "base_uri": "https://localhost:8080/"
        },
        "id": "TFftvE8AR-Hv",
        "outputId": "3c9529ec-1665-4ee9-f42d-d55088865a45"
      },
      "execution_count": null,
      "outputs": [
        {
          "output_type": "execute_result",
          "data": {
            "text/plain": [
              "Review     0\n",
              "Rating    39\n",
              "dtype: int64"
            ]
          },
          "metadata": {},
          "execution_count": 24
        }
      ]
    },
    {
      "cell_type": "code",
      "source": [
        "Rating_temp.isnull().sum()"
      ],
      "metadata": {
        "colab": {
          "base_uri": "https://localhost:8080/"
        },
        "id": "393g5PhkVHRD",
        "outputId": "aa7389ea-7a10-4757-b627-c909b714c3cd"
      },
      "execution_count": null,
      "outputs": [
        {
          "output_type": "execute_result",
          "data": {
            "text/plain": [
              "Review     0\n",
              "Rating    39\n",
              "dtype: int64"
            ]
          },
          "metadata": {},
          "execution_count": 25
        }
      ]
    },
    {
      "cell_type": "code",
      "source": [
        "Rating_temp.dropna(inplace=True)\n",
        "Rating_temp.tail()"
      ],
      "metadata": {
        "colab": {
          "base_uri": "https://localhost:8080/",
          "height": 206
        },
        "id": "AoubCTr4VXo3",
        "outputId": "742e875b-7e6b-48aa-fe5c-81a8250b9144"
      },
      "execution_count": null,
      "outputs": [
        {
          "output_type": "execute_result",
          "data": {
            "text/plain": [
              "           Review  Rating\n",
              "666  Nice product     5.0\n",
              "667  Cool one ...     5.0\n",
              "668          Good     4.0\n",
              "669  Good quality     5.0\n",
              "670        Awsome     5.0"
            ],
            "text/html": [
              "\n",
              "  <div id=\"df-69764aaa-2753-4cc7-8f05-7b1d836093fd\">\n",
              "    <div class=\"colab-df-container\">\n",
              "      <div>\n",
              "<style scoped>\n",
              "    .dataframe tbody tr th:only-of-type {\n",
              "        vertical-align: middle;\n",
              "    }\n",
              "\n",
              "    .dataframe tbody tr th {\n",
              "        vertical-align: top;\n",
              "    }\n",
              "\n",
              "    .dataframe thead th {\n",
              "        text-align: right;\n",
              "    }\n",
              "</style>\n",
              "<table border=\"1\" class=\"dataframe\">\n",
              "  <thead>\n",
              "    <tr style=\"text-align: right;\">\n",
              "      <th></th>\n",
              "      <th>Review</th>\n",
              "      <th>Rating</th>\n",
              "    </tr>\n",
              "  </thead>\n",
              "  <tbody>\n",
              "    <tr>\n",
              "      <th>666</th>\n",
              "      <td>Nice product</td>\n",
              "      <td>5.0</td>\n",
              "    </tr>\n",
              "    <tr>\n",
              "      <th>667</th>\n",
              "      <td>Cool one ...</td>\n",
              "      <td>5.0</td>\n",
              "    </tr>\n",
              "    <tr>\n",
              "      <th>668</th>\n",
              "      <td>Good</td>\n",
              "      <td>4.0</td>\n",
              "    </tr>\n",
              "    <tr>\n",
              "      <th>669</th>\n",
              "      <td>Good quality</td>\n",
              "      <td>5.0</td>\n",
              "    </tr>\n",
              "    <tr>\n",
              "      <th>670</th>\n",
              "      <td>Awsome</td>\n",
              "      <td>5.0</td>\n",
              "    </tr>\n",
              "  </tbody>\n",
              "</table>\n",
              "</div>\n",
              "      <button class=\"colab-df-convert\" onclick=\"convertToInteractive('df-69764aaa-2753-4cc7-8f05-7b1d836093fd')\"\n",
              "              title=\"Convert this dataframe to an interactive table.\"\n",
              "              style=\"display:none;\">\n",
              "        \n",
              "  <svg xmlns=\"http://www.w3.org/2000/svg\" height=\"24px\"viewBox=\"0 0 24 24\"\n",
              "       width=\"24px\">\n",
              "    <path d=\"M0 0h24v24H0V0z\" fill=\"none\"/>\n",
              "    <path d=\"M18.56 5.44l.94 2.06.94-2.06 2.06-.94-2.06-.94-.94-2.06-.94 2.06-2.06.94zm-11 1L8.5 8.5l.94-2.06 2.06-.94-2.06-.94L8.5 2.5l-.94 2.06-2.06.94zm10 10l.94 2.06.94-2.06 2.06-.94-2.06-.94-.94-2.06-.94 2.06-2.06.94z\"/><path d=\"M17.41 7.96l-1.37-1.37c-.4-.4-.92-.59-1.43-.59-.52 0-1.04.2-1.43.59L10.3 9.45l-7.72 7.72c-.78.78-.78 2.05 0 2.83L4 21.41c.39.39.9.59 1.41.59.51 0 1.02-.2 1.41-.59l7.78-7.78 2.81-2.81c.8-.78.8-2.07 0-2.86zM5.41 20L4 18.59l7.72-7.72 1.47 1.35L5.41 20z\"/>\n",
              "  </svg>\n",
              "      </button>\n",
              "      \n",
              "  <style>\n",
              "    .colab-df-container {\n",
              "      display:flex;\n",
              "      flex-wrap:wrap;\n",
              "      gap: 12px;\n",
              "    }\n",
              "\n",
              "    .colab-df-convert {\n",
              "      background-color: #E8F0FE;\n",
              "      border: none;\n",
              "      border-radius: 50%;\n",
              "      cursor: pointer;\n",
              "      display: none;\n",
              "      fill: #1967D2;\n",
              "      height: 32px;\n",
              "      padding: 0 0 0 0;\n",
              "      width: 32px;\n",
              "    }\n",
              "\n",
              "    .colab-df-convert:hover {\n",
              "      background-color: #E2EBFA;\n",
              "      box-shadow: 0px 1px 2px rgba(60, 64, 67, 0.3), 0px 1px 3px 1px rgba(60, 64, 67, 0.15);\n",
              "      fill: #174EA6;\n",
              "    }\n",
              "\n",
              "    [theme=dark] .colab-df-convert {\n",
              "      background-color: #3B4455;\n",
              "      fill: #D2E3FC;\n",
              "    }\n",
              "\n",
              "    [theme=dark] .colab-df-convert:hover {\n",
              "      background-color: #434B5C;\n",
              "      box-shadow: 0px 1px 3px 1px rgba(0, 0, 0, 0.15);\n",
              "      filter: drop-shadow(0px 1px 2px rgba(0, 0, 0, 0.3));\n",
              "      fill: #FFFFFF;\n",
              "    }\n",
              "  </style>\n",
              "\n",
              "      <script>\n",
              "        const buttonEl =\n",
              "          document.querySelector('#df-69764aaa-2753-4cc7-8f05-7b1d836093fd button.colab-df-convert');\n",
              "        buttonEl.style.display =\n",
              "          google.colab.kernel.accessAllowed ? 'block' : 'none';\n",
              "\n",
              "        async function convertToInteractive(key) {\n",
              "          const element = document.querySelector('#df-69764aaa-2753-4cc7-8f05-7b1d836093fd');\n",
              "          const dataTable =\n",
              "            await google.colab.kernel.invokeFunction('convertToInteractive',\n",
              "                                                     [key], {});\n",
              "          if (!dataTable) return;\n",
              "\n",
              "          const docLinkHtml = 'Like what you see? Visit the ' +\n",
              "            '<a target=\"_blank\" href=https://colab.research.google.com/notebooks/data_table.ipynb>data table notebook</a>'\n",
              "            + ' to learn more about interactive tables.';\n",
              "          element.innerHTML = '';\n",
              "          dataTable['output_type'] = 'display_data';\n",
              "          await google.colab.output.renderOutput(dataTable, element);\n",
              "          const docLink = document.createElement('div');\n",
              "          docLink.innerHTML = docLinkHtml;\n",
              "          element.appendChild(docLink);\n",
              "        }\n",
              "      </script>\n",
              "    </div>\n",
              "  </div>\n",
              "  "
            ]
          },
          "metadata": {},
          "execution_count": 26
        }
      ]
    },
    {
      "cell_type": "code",
      "source": [
        "Rating_temp.shape"
      ],
      "metadata": {
        "colab": {
          "base_uri": "https://localhost:8080/"
        },
        "id": "PpscxF9NWvHa",
        "outputId": "1c9b5949-edf1-49e7-f872-1ecf67b0abf3"
      },
      "execution_count": null,
      "outputs": [
        {
          "output_type": "execute_result",
          "data": {
            "text/plain": [
              "(671, 2)"
            ]
          },
          "metadata": {},
          "execution_count": 27
        }
      ]
    },
    {
      "cell_type": "code",
      "source": [
        "Rating_temp.isnull().sum()"
      ],
      "metadata": {
        "colab": {
          "base_uri": "https://localhost:8080/"
        },
        "id": "M6hZg1vVWoil",
        "outputId": "210a991e-6073-4b3f-ae78-2ecb720f3b4e"
      },
      "execution_count": null,
      "outputs": [
        {
          "output_type": "execute_result",
          "data": {
            "text/plain": [
              "Review    0\n",
              "Rating    0\n",
              "dtype: int64"
            ]
          },
          "metadata": {},
          "execution_count": 28
        }
      ]
    },
    {
      "cell_type": "code",
      "source": [
        "Rating_temp.tail()"
      ],
      "metadata": {
        "colab": {
          "base_uri": "https://localhost:8080/",
          "height": 206
        },
        "id": "a-cOBHCFZJp1",
        "outputId": "caec7090-a3d6-4b4b-fed7-ea20ab78d0cd"
      },
      "execution_count": null,
      "outputs": [
        {
          "output_type": "execute_result",
          "data": {
            "text/plain": [
              "           Review  Rating\n",
              "666  Nice product     5.0\n",
              "667  Cool one ...     5.0\n",
              "668          Good     4.0\n",
              "669  Good quality     5.0\n",
              "670        Awsome     5.0"
            ],
            "text/html": [
              "\n",
              "  <div id=\"df-a9c0adf0-16e3-400e-bf7c-d1299bc9cbb2\">\n",
              "    <div class=\"colab-df-container\">\n",
              "      <div>\n",
              "<style scoped>\n",
              "    .dataframe tbody tr th:only-of-type {\n",
              "        vertical-align: middle;\n",
              "    }\n",
              "\n",
              "    .dataframe tbody tr th {\n",
              "        vertical-align: top;\n",
              "    }\n",
              "\n",
              "    .dataframe thead th {\n",
              "        text-align: right;\n",
              "    }\n",
              "</style>\n",
              "<table border=\"1\" class=\"dataframe\">\n",
              "  <thead>\n",
              "    <tr style=\"text-align: right;\">\n",
              "      <th></th>\n",
              "      <th>Review</th>\n",
              "      <th>Rating</th>\n",
              "    </tr>\n",
              "  </thead>\n",
              "  <tbody>\n",
              "    <tr>\n",
              "      <th>666</th>\n",
              "      <td>Nice product</td>\n",
              "      <td>5.0</td>\n",
              "    </tr>\n",
              "    <tr>\n",
              "      <th>667</th>\n",
              "      <td>Cool one ...</td>\n",
              "      <td>5.0</td>\n",
              "    </tr>\n",
              "    <tr>\n",
              "      <th>668</th>\n",
              "      <td>Good</td>\n",
              "      <td>4.0</td>\n",
              "    </tr>\n",
              "    <tr>\n",
              "      <th>669</th>\n",
              "      <td>Good quality</td>\n",
              "      <td>5.0</td>\n",
              "    </tr>\n",
              "    <tr>\n",
              "      <th>670</th>\n",
              "      <td>Awsome</td>\n",
              "      <td>5.0</td>\n",
              "    </tr>\n",
              "  </tbody>\n",
              "</table>\n",
              "</div>\n",
              "      <button class=\"colab-df-convert\" onclick=\"convertToInteractive('df-a9c0adf0-16e3-400e-bf7c-d1299bc9cbb2')\"\n",
              "              title=\"Convert this dataframe to an interactive table.\"\n",
              "              style=\"display:none;\">\n",
              "        \n",
              "  <svg xmlns=\"http://www.w3.org/2000/svg\" height=\"24px\"viewBox=\"0 0 24 24\"\n",
              "       width=\"24px\">\n",
              "    <path d=\"M0 0h24v24H0V0z\" fill=\"none\"/>\n",
              "    <path d=\"M18.56 5.44l.94 2.06.94-2.06 2.06-.94-2.06-.94-.94-2.06-.94 2.06-2.06.94zm-11 1L8.5 8.5l.94-2.06 2.06-.94-2.06-.94L8.5 2.5l-.94 2.06-2.06.94zm10 10l.94 2.06.94-2.06 2.06-.94-2.06-.94-.94-2.06-.94 2.06-2.06.94z\"/><path d=\"M17.41 7.96l-1.37-1.37c-.4-.4-.92-.59-1.43-.59-.52 0-1.04.2-1.43.59L10.3 9.45l-7.72 7.72c-.78.78-.78 2.05 0 2.83L4 21.41c.39.39.9.59 1.41.59.51 0 1.02-.2 1.41-.59l7.78-7.78 2.81-2.81c.8-.78.8-2.07 0-2.86zM5.41 20L4 18.59l7.72-7.72 1.47 1.35L5.41 20z\"/>\n",
              "  </svg>\n",
              "      </button>\n",
              "      \n",
              "  <style>\n",
              "    .colab-df-container {\n",
              "      display:flex;\n",
              "      flex-wrap:wrap;\n",
              "      gap: 12px;\n",
              "    }\n",
              "\n",
              "    .colab-df-convert {\n",
              "      background-color: #E8F0FE;\n",
              "      border: none;\n",
              "      border-radius: 50%;\n",
              "      cursor: pointer;\n",
              "      display: none;\n",
              "      fill: #1967D2;\n",
              "      height: 32px;\n",
              "      padding: 0 0 0 0;\n",
              "      width: 32px;\n",
              "    }\n",
              "\n",
              "    .colab-df-convert:hover {\n",
              "      background-color: #E2EBFA;\n",
              "      box-shadow: 0px 1px 2px rgba(60, 64, 67, 0.3), 0px 1px 3px 1px rgba(60, 64, 67, 0.15);\n",
              "      fill: #174EA6;\n",
              "    }\n",
              "\n",
              "    [theme=dark] .colab-df-convert {\n",
              "      background-color: #3B4455;\n",
              "      fill: #D2E3FC;\n",
              "    }\n",
              "\n",
              "    [theme=dark] .colab-df-convert:hover {\n",
              "      background-color: #434B5C;\n",
              "      box-shadow: 0px 1px 3px 1px rgba(0, 0, 0, 0.15);\n",
              "      filter: drop-shadow(0px 1px 2px rgba(0, 0, 0, 0.3));\n",
              "      fill: #FFFFFF;\n",
              "    }\n",
              "  </style>\n",
              "\n",
              "      <script>\n",
              "        const buttonEl =\n",
              "          document.querySelector('#df-a9c0adf0-16e3-400e-bf7c-d1299bc9cbb2 button.colab-df-convert');\n",
              "        buttonEl.style.display =\n",
              "          google.colab.kernel.accessAllowed ? 'block' : 'none';\n",
              "\n",
              "        async function convertToInteractive(key) {\n",
              "          const element = document.querySelector('#df-a9c0adf0-16e3-400e-bf7c-d1299bc9cbb2');\n",
              "          const dataTable =\n",
              "            await google.colab.kernel.invokeFunction('convertToInteractive',\n",
              "                                                     [key], {});\n",
              "          if (!dataTable) return;\n",
              "\n",
              "          const docLinkHtml = 'Like what you see? Visit the ' +\n",
              "            '<a target=\"_blank\" href=https://colab.research.google.com/notebooks/data_table.ipynb>data table notebook</a>'\n",
              "            + ' to learn more about interactive tables.';\n",
              "          element.innerHTML = '';\n",
              "          dataTable['output_type'] = 'display_data';\n",
              "          await google.colab.output.renderOutput(dataTable, element);\n",
              "          const docLink = document.createElement('div');\n",
              "          docLink.innerHTML = docLinkHtml;\n",
              "          element.appendChild(docLink);\n",
              "        }\n",
              "      </script>\n",
              "    </div>\n",
              "  </div>\n",
              "  "
            ]
          },
          "metadata": {},
          "execution_count": 29
        }
      ]
    },
    {
      "cell_type": "code",
      "source": [
        "df[\"Rating\"].value_counts()"
      ],
      "metadata": {
        "colab": {
          "base_uri": "https://localhost:8080/"
        },
        "id": "bCPcHNjeYDve",
        "outputId": "f3d90aae-e049-463b-b3f0-ea8bd06ff212"
      },
      "execution_count": null,
      "outputs": [
        {
          "output_type": "execute_result",
          "data": {
            "text/plain": [
              "5.0    507\n",
              "4.0    131\n",
              "3.0     33\n",
              "Name: Rating, dtype: int64"
            ]
          },
          "metadata": {},
          "execution_count": 30
        }
      ]
    },
    {
      "cell_type": "code",
      "source": [
        "sns.countplot(x='Rating',data=Rating_temp)"
      ],
      "metadata": {
        "colab": {
          "base_uri": "https://localhost:8080/",
          "height": 296
        },
        "id": "QAs5MCYYZ2mh",
        "outputId": "bc4dbb4f-f7c4-477e-8cb5-5f89eea35795"
      },
      "execution_count": null,
      "outputs": [
        {
          "output_type": "execute_result",
          "data": {
            "text/plain": [
              "<matplotlib.axes._subplots.AxesSubplot at 0x7ff517728640>"
            ]
          },
          "metadata": {},
          "execution_count": 31
        },
        {
          "output_type": "display_data",
          "data": {
            "text/plain": [
              "<Figure size 432x288 with 1 Axes>"
            ],
            "image/png": "[encoded data removed]"
          },
          "metadata": {
            "needs_background": "light"
          }
        }
      ]
    },
    {
      "cell_type": "code",
      "source": [
        "fig=plt.figure(figsize=(7,7))\n",
        "tags=Rating_temp['Rating'].value_counts()\n",
        "tags.plot(kind='pie',autopct='%1.1f%%',label='')\n",
        "plt.title(\"Distribution of different Sentiments\")"
      ],
      "metadata": {
        "colab": {
          "base_uri": "https://localhost:8080/",
          "height": 444
        },
        "id": "kRhViQetYyoE",
        "outputId": "a9a1d06f-1b7b-4612-85f8-4879f9509638"
      },
      "execution_count": null,
      "outputs": [
        {
          "output_type": "execute_result",
          "data": {
            "text/plain": [
              "Text(0.5, 1.0, 'Distribution of different Sentiments')"
            ]
          },
          "metadata": {},
          "execution_count": 32
        },
        {
          "output_type": "display_data",
          "data": {
            "text/plain": [
              "<Figure size 504x504 with 1 Axes>"
            ],
            "image/png": "[encoded data removed]"
          },
          "metadata": {}
        }
      ]
    },
    {
      "cell_type": "code",
      "source": [
        "df_neg = Rating_temp.loc[Rating_temp[\"Rating\"]<=3.0]\n",
        "df_neg=df_neg.reset_index(drop=True)"
      ],
      "metadata": {
        "id": "PC2pO9Y4aOET"
      },
      "execution_count": null,
      "outputs": []
    },
    {
      "cell_type": "code",
      "source": [
        "df_neg"
      ],
      "metadata": {
        "colab": {
          "base_uri": "https://localhost:8080/",
          "height": 1000
        },
        "id": "AmpP3uwyaWLQ",
        "outputId": "92cd35bc-ef81-4b8f-8cd8-6e6c1b73d3f4"
      },
      "execution_count": null,
      "outputs": [
        {
          "output_type": "execute_result",
          "data": {
            "text/plain": [
              "                                               Review  Rating\n",
              "0   product is good ..but very light . metal body ...     3.0\n",
              "1   Great watch at this price segment... Soft mate...     3.0\n",
              "2   Good watch for the people who wants to buy bel...     3.0\n",
              "3   wrist size is more then 8cm was is good and yo...     3.0\n",
              "4   It's a nice watch ,cool looking not too funky ...     3.0\n",
              "5   I orderes this watch and get delivered in 2 da...     3.0\n",
              "6                                      very big sized     3.0\n",
              "7                        Nice watch...my brother likd     3.0\n",
              "8                        Nice watchNot so much costly     3.0\n",
              "9            Watch is good. but the packing is so bad     3.0\n",
              "10     Dark in colour but still amazing  😍I love it..     3.0\n",
              "11                                         Nice watch     3.0\n",
              "12                                    Value for money     3.0\n",
              "13                           Low quality product 🤮🤮🤮🤮     3.0\n",
              "14                         Good watch for regular use     3.0\n",
              "15                                    Awesome product     3.0\n",
              "16                          Good nd nice lookng handy     3.0\n",
              "17  I was so happy with the watch but i'm slightly...     3.0\n",
              "18  This watch is very light weight, good looking ...     3.0\n",
              "19  Stylish yet minimal! Looks great, value for mo...     3.0\n",
              "20  Fastract means Good only..... Quality- Average...     3.0\n",
              "21                                       nice product     3.0\n",
              "22                          nice one I really love it     3.0\n",
              "23                 Awesome product in this price !!!!     3.0\n",
              "24                                               nice     3.0\n",
              "25                           good product,water proof     3.0\n",
              "26                                           Perfect!     3.0\n",
              "27                       Very big watch not much good     3.0\n",
              "28  The best product..Go for it guys..looks just f...     3.0\n",
              "29                      Nice watch... Buy Ri8 now....     3.0\n",
              "30     Waste product Watch was not working at all....     3.0\n",
              "31  I want full conssesion this watch is not good ...     3.0\n",
              "32  Look was great but build quality not good.by m...     3.0"
            ],
            "text/html": [
              "\n",
              "  <div id=\"df-06f73b4a-ef5b-41be-bce8-a28aaea37947\">\n",
              "    <div class=\"colab-df-container\">\n",
              "      <div>\n",
              "<style scoped>\n",
              "    .dataframe tbody tr th:only-of-type {\n",
              "        vertical-align: middle;\n",
              "    }\n",
              "\n",
              "    .dataframe tbody tr th {\n",
              "        vertical-align: top;\n",
              "    }\n",
              "\n",
              "    .dataframe thead th {\n",
              "        text-align: right;\n",
              "    }\n",
              "</style>\n",
              "<table border=\"1\" class=\"dataframe\">\n",
              "  <thead>\n",
              "    <tr style=\"text-align: right;\">\n",
              "      <th></th>\n",
              "      <th>Review</th>\n",
              "      <th>Rating</th>\n",
              "    </tr>\n",
              "  </thead>\n",
              "  <tbody>\n",
              "    <tr>\n",
              "      <th>0</th>\n",
              "      <td>product is good ..but very light . metal body ...</td>\n",
              "      <td>3.0</td>\n",
              "    </tr>\n",
              "    <tr>\n",
              "      <th>1</th>\n",
              "      <td>Great watch at this price segment... Soft mate...</td>\n",
              "      <td>3.0</td>\n",
              "    </tr>\n",
              "    <tr>\n",
              "      <th>2</th>\n",
              "      <td>Good watch for the people who wants to buy bel...</td>\n",
              "      <td>3.0</td>\n",
              "    </tr>\n",
              "    <tr>\n",
              "      <th>3</th>\n",
              "      <td>wrist size is more then 8cm was is good and yo...</td>\n",
              "      <td>3.0</td>\n",
              "    </tr>\n",
              "    <tr>\n",
              "      <th>4</th>\n",
              "      <td>It's a nice watch ,cool looking not too funky ...</td>\n",
              "      <td>3.0</td>\n",
              "    </tr>\n",
              "    <tr>\n",
              "      <th>5</th>\n",
              "      <td>I orderes this watch and get delivered in 2 da...</td>\n",
              "      <td>3.0</td>\n",
              "    </tr>\n",
              "    <tr>\n",
              "      <th>6</th>\n",
              "      <td>very big sized</td>\n",
              "      <td>3.0</td>\n",
              "    </tr>\n",
              "    <tr>\n",
              "      <th>7</th>\n",
              "      <td>Nice watch...my brother likd</td>\n",
              "      <td>3.0</td>\n",
              "    </tr>\n",
              "    <tr>\n",
              "      <th>8</th>\n",
              "      <td>Nice watchNot so much costly</td>\n",
              "      <td>3.0</td>\n",
              "    </tr>\n",
              "    <tr>\n",
              "      <th>9</th>\n",
              "      <td>Watch is good. but the packing is so bad</td>\n",
              "      <td>3.0</td>\n",
              "    </tr>\n",
              "    <tr>\n",
              "      <th>10</th>\n",
              "      <td>Dark in colour but still amazing  😍I love it..</td>\n",
              "      <td>3.0</td>\n",
              "    </tr>\n",
              "    <tr>\n",
              "      <th>11</th>\n",
              "      <td>Nice watch</td>\n",
              "      <td>3.0</td>\n",
              "    </tr>\n",
              "    <tr>\n",
              "      <th>12</th>\n",
              "      <td>Value for money</td>\n",
              "      <td>3.0</td>\n",
              "    </tr>\n",
              "    <tr>\n",
              "      <th>13</th>\n",
              "      <td>Low quality product 🤮🤮🤮🤮</td>\n",
              "      <td>3.0</td>\n",
              "    </tr>\n",
              "    <tr>\n",
              "      <th>14</th>\n",
              "      <td>Good watch for regular use</td>\n",
              "      <td>3.0</td>\n",
              "    </tr>\n",
              "    <tr>\n",
              "      <th>15</th>\n",
              "      <td>Awesome product</td>\n",
              "      <td>3.0</td>\n",
              "    </tr>\n",
              "    <tr>\n",
              "      <th>16</th>\n",
              "      <td>Good nd nice lookng handy</td>\n",
              "      <td>3.0</td>\n",
              "    </tr>\n",
              "    <tr>\n",
              "      <th>17</th>\n",
              "      <td>I was so happy with the watch but i'm slightly...</td>\n",
              "      <td>3.0</td>\n",
              "    </tr>\n",
              "    <tr>\n",
              "      <th>18</th>\n",
              "      <td>This watch is very light weight, good looking ...</td>\n",
              "      <td>3.0</td>\n",
              "    </tr>\n",
              "    <tr>\n",
              "      <th>19</th>\n",
              "      <td>Stylish yet minimal! Looks great, value for mo...</td>\n",
              "      <td>3.0</td>\n",
              "    </tr>\n",
              "    <tr>\n",
              "      <th>20</th>\n",
              "      <td>Fastract means Good only..... Quality- Average...</td>\n",
              "      <td>3.0</td>\n",
              "    </tr>\n",
              "    <tr>\n",
              "      <th>21</th>\n",
              "      <td>nice product</td>\n",
              "      <td>3.0</td>\n",
              "    </tr>\n",
              "    <tr>\n",
              "      <th>22</th>\n",
              "      <td>nice one I really love it</td>\n",
              "      <td>3.0</td>\n",
              "    </tr>\n",
              "    <tr>\n",
              "      <th>23</th>\n",
              "      <td>Awesome product in this price !!!!</td>\n",
              "      <td>3.0</td>\n",
              "    </tr>\n",
              "    <tr>\n",
              "      <th>24</th>\n",
              "      <td>nice</td>\n",
              "      <td>3.0</td>\n",
              "    </tr>\n",
              "    <tr>\n",
              "      <th>25</th>\n",
              "      <td>good product,water proof</td>\n",
              "      <td>3.0</td>\n",
              "    </tr>\n",
              "    <tr>\n",
              "      <th>26</th>\n",
              "      <td>Perfect!</td>\n",
              "      <td>3.0</td>\n",
              "    </tr>\n",
              "    <tr>\n",
              "      <th>27</th>\n",
              "      <td>Very big watch not much good</td>\n",
              "      <td>3.0</td>\n",
              "    </tr>\n",
              "    <tr>\n",
              "      <th>28</th>\n",
              "      <td>The best product..Go for it guys..looks just f...</td>\n",
              "      <td>3.0</td>\n",
              "    </tr>\n",
              "    <tr>\n",
              "      <th>29</th>\n",
              "      <td>Nice watch... Buy Ri8 now....</td>\n",
              "      <td>3.0</td>\n",
              "    </tr>\n",
              "    <tr>\n",
              "      <th>30</th>\n",
              "      <td>Waste product Watch was not working at all....</td>\n",
              "      <td>3.0</td>\n",
              "    </tr>\n",
              "    <tr>\n",
              "      <th>31</th>\n",
              "      <td>I want full conssesion this watch is not good ...</td>\n",
              "      <td>3.0</td>\n",
              "    </tr>\n",
              "    <tr>\n",
              "      <th>32</th>\n",
              "      <td>Look was great but build quality not good.by m...</td>\n",
              "      <td>3.0</td>\n",
              "    </tr>\n",
              "  </tbody>\n",
              "</table>\n",
              "</div>\n",
              "      <button class=\"colab-df-convert\" onclick=\"convertToInteractive('df-06f73b4a-ef5b-41be-bce8-a28aaea37947')\"\n",
              "              title=\"Convert this dataframe to an interactive table.\"\n",
              "              style=\"display:none;\">\n",
              "        \n",
              "  <svg xmlns=\"http://www.w3.org/2000/svg\" height=\"24px\"viewBox=\"0 0 24 24\"\n",
              "       width=\"24px\">\n",
              "    <path d=\"M0 0h24v24H0V0z\" fill=\"none\"/>\n",
              "    <path d=\"M18.56 5.44l.94 2.06.94-2.06 2.06-.94-2.06-.94-.94-2.06-.94 2.06-2.06.94zm-11 1L8.5 8.5l.94-2.06 2.06-.94-2.06-.94L8.5 2.5l-.94 2.06-2.06.94zm10 10l.94 2.06.94-2.06 2.06-.94-2.06-.94-.94-2.06-.94 2.06-2.06.94z\"/><path d=\"M17.41 7.96l-1.37-1.37c-.4-.4-.92-.59-1.43-.59-.52 0-1.04.2-1.43.59L10.3 9.45l-7.72 7.72c-.78.78-.78 2.05 0 2.83L4 21.41c.39.39.9.59 1.41.59.51 0 1.02-.2 1.41-.59l7.78-7.78 2.81-2.81c.8-.78.8-2.07 0-2.86zM5.41 20L4 18.59l7.72-7.72 1.47 1.35L5.41 20z\"/>\n",
              "  </svg>\n",
              "      </button>\n",
              "      \n",
              "  <style>\n",
              "    .colab-df-container {\n",
              "      display:flex;\n",
              "      flex-wrap:wrap;\n",
              "      gap: 12px;\n",
              "    }\n",
              "\n",
              "    .colab-df-convert {\n",
              "      background-color: #E8F0FE;\n",
              "      border: none;\n",
              "      border-radius: 50%;\n",
              "      cursor: pointer;\n",
              "      display: none;\n",
              "      fill: #1967D2;\n",
              "      height: 32px;\n",
              "      padding: 0 0 0 0;\n",
              "      width: 32px;\n",
              "    }\n",
              "\n",
              "    .colab-df-convert:hover {\n",
              "      background-color: #E2EBFA;\n",
              "      box-shadow: 0px 1px 2px rgba(60, 64, 67, 0.3), 0px 1px 3px 1px rgba(60, 64, 67, 0.15);\n",
              "      fill: #174EA6;\n",
              "    }\n",
              "\n",
              "    [theme=dark] .colab-df-convert {\n",
              "      background-color: #3B4455;\n",
              "      fill: #D2E3FC;\n",
              "    }\n",
              "\n",
              "    [theme=dark] .colab-df-convert:hover {\n",
              "      background-color: #434B5C;\n",
              "      box-shadow: 0px 1px 3px 1px rgba(0, 0, 0, 0.15);\n",
              "      filter: drop-shadow(0px 1px 2px rgba(0, 0, 0, 0.3));\n",
              "      fill: #FFFFFF;\n",
              "    }\n",
              "  </style>\n",
              "\n",
              "      <script>\n",
              "        const buttonEl =\n",
              "          document.querySelector('#df-06f73b4a-ef5b-41be-bce8-a28aaea37947 button.colab-df-convert');\n",
              "        buttonEl.style.display =\n",
              "          google.colab.kernel.accessAllowed ? 'block' : 'none';\n",
              "\n",
              "        async function convertToInteractive(key) {\n",
              "          const element = document.querySelector('#df-06f73b4a-ef5b-41be-bce8-a28aaea37947');\n",
              "          const dataTable =\n",
              "            await google.colab.kernel.invokeFunction('convertToInteractive',\n",
              "                                                     [key], {});\n",
              "          if (!dataTable) return;\n",
              "\n",
              "          const docLinkHtml = 'Like what you see? Visit the ' +\n",
              "            '<a target=\"_blank\" href=https://colab.research.google.com/notebooks/data_table.ipynb>data table notebook</a>'\n",
              "            + ' to learn more about interactive tables.';\n",
              "          element.innerHTML = '';\n",
              "          dataTable['output_type'] = 'display_data';\n",
              "          await google.colab.output.renderOutput(dataTable, element);\n",
              "          const docLink = document.createElement('div');\n",
              "          docLink.innerHTML = docLinkHtml;\n",
              "          element.appendChild(docLink);\n",
              "        }\n",
              "      </script>\n",
              "    </div>\n",
              "  </div>\n",
              "  "
            ]
          },
          "metadata": {},
          "execution_count": 35
        }
      ]
    },
    {
      "cell_type": "code",
      "source": [
        "df_pos = Rating_temp.loc[Rating_temp[\"Rating\"]>=4]\n",
        "df_pos=df_pos.reset_index(drop=True)"
      ],
      "metadata": {
        "id": "E3D-YnlpaYyw"
      },
      "execution_count": null,
      "outputs": []
    },
    {
      "cell_type": "code",
      "source": [
        "df_all=pd.concat([df_neg,df_pos],axis=0)\n",
        "df_all=df_all.reset_index(drop=True)"
      ],
      "metadata": {
        "id": "xNVUytTFakiL"
      },
      "execution_count": null,
      "outputs": []
    },
    {
      "cell_type": "code",
      "source": [
        "df_all.shape"
      ],
      "metadata": {
        "colab": {
          "base_uri": "https://localhost:8080/"
        },
        "id": "IbCHZKyEanYB",
        "outputId": "3ddac75e-2547-4600-c4a5-2b3844bc2778"
      },
      "execution_count": null,
      "outputs": [
        {
          "output_type": "execute_result",
          "data": {
            "text/plain": [
              "(671, 2)"
            ]
          },
          "metadata": {},
          "execution_count": 38
        }
      ]
    },
    {
      "cell_type": "code",
      "source": [
        "df_all.describe()"
      ],
      "metadata": {
        "colab": {
          "base_uri": "https://localhost:8080/",
          "height": 300
        },
        "id": "ZLh7mwEt9Uai",
        "outputId": "2bef284e-5b4b-4290-db7c-1c7c6aa3be66"
      },
      "execution_count": null,
      "outputs": [
        {
          "output_type": "execute_result",
          "data": {
            "text/plain": [
              "           Rating\n",
              "count  671.000000\n",
              "mean     4.706408\n",
              "std      0.553365\n",
              "min      3.000000\n",
              "25%      5.000000\n",
              "50%      5.000000\n",
              "75%      5.000000\n",
              "max      5.000000"
            ],
            "text/html": [
              "\n",
              "  <div id=\"df-2cb7f293-00e8-407e-87c5-e3ea54dfb8e7\">\n",
              "    <div class=\"colab-df-container\">\n",
              "      <div>\n",
              "<style scoped>\n",
              "    .dataframe tbody tr th:only-of-type {\n",
              "        vertical-align: middle;\n",
              "    }\n",
              "\n",
              "    .dataframe tbody tr th {\n",
              "        vertical-align: top;\n",
              "    }\n",
              "\n",
              "    .dataframe thead th {\n",
              "        text-align: right;\n",
              "    }\n",
              "</style>\n",
              "<table border=\"1\" class=\"dataframe\">\n",
              "  <thead>\n",
              "    <tr style=\"text-align: right;\">\n",
              "      <th></th>\n",
              "      <th>Rating</th>\n",
              "    </tr>\n",
              "  </thead>\n",
              "  <tbody>\n",
              "    <tr>\n",
              "      <th>count</th>\n",
              "      <td>671.000000</td>\n",
              "    </tr>\n",
              "    <tr>\n",
              "      <th>mean</th>\n",
              "      <td>4.706408</td>\n",
              "    </tr>\n",
              "    <tr>\n",
              "      <th>std</th>\n",
              "      <td>0.553365</td>\n",
              "    </tr>\n",
              "    <tr>\n",
              "      <th>min</th>\n",
              "      <td>3.000000</td>\n",
              "    </tr>\n",
              "    <tr>\n",
              "      <th>25%</th>\n",
              "      <td>5.000000</td>\n",
              "    </tr>\n",
              "    <tr>\n",
              "      <th>50%</th>\n",
              "      <td>5.000000</td>\n",
              "    </tr>\n",
              "    <tr>\n",
              "      <th>75%</th>\n",
              "      <td>5.000000</td>\n",
              "    </tr>\n",
              "    <tr>\n",
              "      <th>max</th>\n",
              "      <td>5.000000</td>\n",
              "    </tr>\n",
              "  </tbody>\n",
              "</table>\n",
              "</div>\n",
              "      <button class=\"colab-df-convert\" onclick=\"convertToInteractive('df-2cb7f293-00e8-407e-87c5-e3ea54dfb8e7')\"\n",
              "              title=\"Convert this dataframe to an interactive table.\"\n",
              "              style=\"display:none;\">\n",
              "        \n",
              "  <svg xmlns=\"http://www.w3.org/2000/svg\" height=\"24px\"viewBox=\"0 0 24 24\"\n",
              "       width=\"24px\">\n",
              "    <path d=\"M0 0h24v24H0V0z\" fill=\"none\"/>\n",
              "    <path d=\"M18.56 5.44l.94 2.06.94-2.06 2.06-.94-2.06-.94-.94-2.06-.94 2.06-2.06.94zm-11 1L8.5 8.5l.94-2.06 2.06-.94-2.06-.94L8.5 2.5l-.94 2.06-2.06.94zm10 10l.94 2.06.94-2.06 2.06-.94-2.06-.94-.94-2.06-.94 2.06-2.06.94z\"/><path d=\"M17.41 7.96l-1.37-1.37c-.4-.4-.92-.59-1.43-.59-.52 0-1.04.2-1.43.59L10.3 9.45l-7.72 7.72c-.78.78-.78 2.05 0 2.83L4 21.41c.39.39.9.59 1.41.59.51 0 1.02-.2 1.41-.59l7.78-7.78 2.81-2.81c.8-.78.8-2.07 0-2.86zM5.41 20L4 18.59l7.72-7.72 1.47 1.35L5.41 20z\"/>\n",
              "  </svg>\n",
              "      </button>\n",
              "      \n",
              "  <style>\n",
              "    .colab-df-container {\n",
              "      display:flex;\n",
              "      flex-wrap:wrap;\n",
              "      gap: 12px;\n",
              "    }\n",
              "\n",
              "    .colab-df-convert {\n",
              "      background-color: #E8F0FE;\n",
              "      border: none;\n",
              "      border-radius: 50%;\n",
              "      cursor: pointer;\n",
              "      display: none;\n",
              "      fill: #1967D2;\n",
              "      height: 32px;\n",
              "      padding: 0 0 0 0;\n",
              "      width: 32px;\n",
              "    }\n",
              "\n",
              "    .colab-df-convert:hover {\n",
              "      background-color: #E2EBFA;\n",
              "      box-shadow: 0px 1px 2px rgba(60, 64, 67, 0.3), 0px 1px 3px 1px rgba(60, 64, 67, 0.15);\n",
              "      fill: #174EA6;\n",
              "    }\n",
              "\n",
              "    [theme=dark] .colab-df-convert {\n",
              "      background-color: #3B4455;\n",
              "      fill: #D2E3FC;\n",
              "    }\n",
              "\n",
              "    [theme=dark] .colab-df-convert:hover {\n",
              "      background-color: #434B5C;\n",
              "      box-shadow: 0px 1px 3px 1px rgba(0, 0, 0, 0.15);\n",
              "      filter: drop-shadow(0px 1px 2px rgba(0, 0, 0, 0.3));\n",
              "      fill: #FFFFFF;\n",
              "    }\n",
              "  </style>\n",
              "\n",
              "      <script>\n",
              "        const buttonEl =\n",
              "          document.querySelector('#df-2cb7f293-00e8-407e-87c5-e3ea54dfb8e7 button.colab-df-convert');\n",
              "        buttonEl.style.display =\n",
              "          google.colab.kernel.accessAllowed ? 'block' : 'none';\n",
              "\n",
              "        async function convertToInteractive(key) {\n",
              "          const element = document.querySelector('#df-2cb7f293-00e8-407e-87c5-e3ea54dfb8e7');\n",
              "          const dataTable =\n",
              "            await google.colab.kernel.invokeFunction('convertToInteractive',\n",
              "                                                     [key], {});\n",
              "          if (!dataTable) return;\n",
              "\n",
              "          const docLinkHtml = 'Like what you see? Visit the ' +\n",
              "            '<a target=\"_blank\" href=https://colab.research.google.com/notebooks/data_table.ipynb>data table notebook</a>'\n",
              "            + ' to learn more about interactive tables.';\n",
              "          element.innerHTML = '';\n",
              "          dataTable['output_type'] = 'display_data';\n",
              "          await google.colab.output.renderOutput(dataTable, element);\n",
              "          const docLink = document.createElement('div');\n",
              "          docLink.innerHTML = docLinkHtml;\n",
              "          element.appendChild(docLink);\n",
              "        }\n",
              "      </script>\n",
              "    </div>\n",
              "  </div>\n",
              "  "
            ]
          },
          "metadata": {},
          "execution_count": 39
        }
      ]
    },
    {
      "cell_type": "code",
      "source": [
        "df_all['Sentiment']=np.where(df_all[\"Rating\"]==str(5),\"Positive\",\"Negative\")"
      ],
      "metadata": {
        "id": "G94zUa1Ta2Ig"
      },
      "execution_count": null,
      "outputs": []
    },
    {
      "cell_type": "code",
      "source": [
        "df_all.tail()"
      ],
      "metadata": {
        "colab": {
          "base_uri": "https://localhost:8080/",
          "height": 206
        },
        "id": "x7aI_fZka-2S",
        "outputId": "5cf2c8c9-6c5a-4d76-d7f6-b6feb2593546"
      },
      "execution_count": null,
      "outputs": [
        {
          "output_type": "execute_result",
          "data": {
            "text/plain": [
              "           Review  Rating Sentiment\n",
              "666  Nice product     5.0  Negative\n",
              "667  Cool one ...     5.0  Negative\n",
              "668          Good     4.0  Negative\n",
              "669  Good quality     5.0  Negative\n",
              "670        Awsome     5.0  Negative"
            ],
            "text/html": [
              "\n",
              "  <div id=\"df-4e6b31d4-da1d-490f-b8cd-2a140d26b7da\">\n",
              "    <div class=\"colab-df-container\">\n",
              "      <div>\n",
              "<style scoped>\n",
              "    .dataframe tbody tr th:only-of-type {\n",
              "        vertical-align: middle;\n",
              "    }\n",
              "\n",
              "    .dataframe tbody tr th {\n",
              "        vertical-align: top;\n",
              "    }\n",
              "\n",
              "    .dataframe thead th {\n",
              "        text-align: right;\n",
              "    }\n",
              "</style>\n",
              "<table border=\"1\" class=\"dataframe\">\n",
              "  <thead>\n",
              "    <tr style=\"text-align: right;\">\n",
              "      <th></th>\n",
              "      <th>Review</th>\n",
              "      <th>Rating</th>\n",
              "      <th>Sentiment</th>\n",
              "    </tr>\n",
              "  </thead>\n",
              "  <tbody>\n",
              "    <tr>\n",
              "      <th>666</th>\n",
              "      <td>Nice product</td>\n",
              "      <td>5.0</td>\n",
              "      <td>Negative</td>\n",
              "    </tr>\n",
              "    <tr>\n",
              "      <th>667</th>\n",
              "      <td>Cool one ...</td>\n",
              "      <td>5.0</td>\n",
              "      <td>Negative</td>\n",
              "    </tr>\n",
              "    <tr>\n",
              "      <th>668</th>\n",
              "      <td>Good</td>\n",
              "      <td>4.0</td>\n",
              "      <td>Negative</td>\n",
              "    </tr>\n",
              "    <tr>\n",
              "      <th>669</th>\n",
              "      <td>Good quality</td>\n",
              "      <td>5.0</td>\n",
              "      <td>Negative</td>\n",
              "    </tr>\n",
              "    <tr>\n",
              "      <th>670</th>\n",
              "      <td>Awsome</td>\n",
              "      <td>5.0</td>\n",
              "      <td>Negative</td>\n",
              "    </tr>\n",
              "  </tbody>\n",
              "</table>\n",
              "</div>\n",
              "      <button class=\"colab-df-convert\" onclick=\"convertToInteractive('df-4e6b31d4-da1d-490f-b8cd-2a140d26b7da')\"\n",
              "              title=\"Convert this dataframe to an interactive table.\"\n",
              "              style=\"display:none;\">\n",
              "        \n",
              "  <svg xmlns=\"http://www.w3.org/2000/svg\" height=\"24px\"viewBox=\"0 0 24 24\"\n",
              "       width=\"24px\">\n",
              "    <path d=\"M0 0h24v24H0V0z\" fill=\"none\"/>\n",
              "    <path d=\"M18.56 5.44l.94 2.06.94-2.06 2.06-.94-2.06-.94-.94-2.06-.94 2.06-2.06.94zm-11 1L8.5 8.5l.94-2.06 2.06-.94-2.06-.94L8.5 2.5l-.94 2.06-2.06.94zm10 10l.94 2.06.94-2.06 2.06-.94-2.06-.94-.94-2.06-.94 2.06-2.06.94z\"/><path d=\"M17.41 7.96l-1.37-1.37c-.4-.4-.92-.59-1.43-.59-.52 0-1.04.2-1.43.59L10.3 9.45l-7.72 7.72c-.78.78-.78 2.05 0 2.83L4 21.41c.39.39.9.59 1.41.59.51 0 1.02-.2 1.41-.59l7.78-7.78 2.81-2.81c.8-.78.8-2.07 0-2.86zM5.41 20L4 18.59l7.72-7.72 1.47 1.35L5.41 20z\"/>\n",
              "  </svg>\n",
              "      </button>\n",
              "      \n",
              "  <style>\n",
              "    .colab-df-container {\n",
              "      display:flex;\n",
              "      flex-wrap:wrap;\n",
              "      gap: 12px;\n",
              "    }\n",
              "\n",
              "    .colab-df-convert {\n",
              "      background-color: #E8F0FE;\n",
              "      border: none;\n",
              "      border-radius: 50%;\n",
              "      cursor: pointer;\n",
              "      display: none;\n",
              "      fill: #1967D2;\n",
              "      height: 32px;\n",
              "      padding: 0 0 0 0;\n",
              "      width: 32px;\n",
              "    }\n",
              "\n",
              "    .colab-df-convert:hover {\n",
              "      background-color: #E2EBFA;\n",
              "      box-shadow: 0px 1px 2px rgba(60, 64, 67, 0.3), 0px 1px 3px 1px rgba(60, 64, 67, 0.15);\n",
              "      fill: #174EA6;\n",
              "    }\n",
              "\n",
              "    [theme=dark] .colab-df-convert {\n",
              "      background-color: #3B4455;\n",
              "      fill: #D2E3FC;\n",
              "    }\n",
              "\n",
              "    [theme=dark] .colab-df-convert:hover {\n",
              "      background-color: #434B5C;\n",
              "      box-shadow: 0px 1px 3px 1px rgba(0, 0, 0, 0.15);\n",
              "      filter: drop-shadow(0px 1px 2px rgba(0, 0, 0, 0.3));\n",
              "      fill: #FFFFFF;\n",
              "    }\n",
              "  </style>\n",
              "\n",
              "      <script>\n",
              "        const buttonEl =\n",
              "          document.querySelector('#df-4e6b31d4-da1d-490f-b8cd-2a140d26b7da button.colab-df-convert');\n",
              "        buttonEl.style.display =\n",
              "          google.colab.kernel.accessAllowed ? 'block' : 'none';\n",
              "\n",
              "        async function convertToInteractive(key) {\n",
              "          const element = document.querySelector('#df-4e6b31d4-da1d-490f-b8cd-2a140d26b7da');\n",
              "          const dataTable =\n",
              "            await google.colab.kernel.invokeFunction('convertToInteractive',\n",
              "                                                     [key], {});\n",
              "          if (!dataTable) return;\n",
              "\n",
              "          const docLinkHtml = 'Like what you see? Visit the ' +\n",
              "            '<a target=\"_blank\" href=https://colab.research.google.com/notebooks/data_table.ipynb>data table notebook</a>'\n",
              "            + ' to learn more about interactive tables.';\n",
              "          element.innerHTML = '';\n",
              "          dataTable['output_type'] = 'display_data';\n",
              "          await google.colab.output.renderOutput(dataTable, element);\n",
              "          const docLink = document.createElement('div');\n",
              "          docLink.innerHTML = docLinkHtml;\n",
              "          element.appendChild(docLink);\n",
              "        }\n",
              "      </script>\n",
              "    </div>\n",
              "  </div>\n",
              "  "
            ]
          },
          "metadata": {},
          "execution_count": 41
        }
      ]
    },
    {
      "cell_type": "code",
      "source": [
        "df_all=df_all.sample(frac=1)\n",
        "df_all=df_all.reset_index(drop=True)"
      ],
      "metadata": {
        "id": "MYgGI59FdmIp"
      },
      "execution_count": null,
      "outputs": []
    },
    {
      "cell_type": "code",
      "source": [
        "df_all.head(10)"
      ],
      "metadata": {
        "colab": {
          "base_uri": "https://localhost:8080/",
          "height": 363
        },
        "id": "MBxAb0Ksd4Yf",
        "outputId": "c502280e-60db-48c7-a063-4e81d074900b"
      },
      "execution_count": null,
      "outputs": [
        {
          "output_type": "execute_result",
          "data": {
            "text/plain": [
              "                                              Review  Rating Sentiment\n",
              "0                                     Dulpicte watch     5.0  Negative\n",
              "1                             Perfect in this range👍     5.0  Negative\n",
              "2  Guys do read this review, hope it might help b...     5.0  Negative\n",
              "3    nice watch for boys for personality maintenance     5.0  Negative\n",
              "4                                      Very big dial     4.0  Negative\n",
              "5                                    Value for money     5.0  Negative\n",
              "6  excellent watch big dial watch is beyond our e...     5.0  Negative\n",
              "7                            really looking nice,,,,     5.0  Negative\n",
              "8  awesome watch by flipkart super fast service. ...     5.0  Negative\n",
              "9                                            perfect     4.0  Negative"
            ],
            "text/html": [
              "\n",
              "  <div id=\"df-05f6ed5f-bd96-4856-84e3-da68c78bf301\">\n",
              "    <div class=\"colab-df-container\">\n",
              "      <div>\n",
              "<style scoped>\n",
              "    .dataframe tbody tr th:only-of-type {\n",
              "        vertical-align: middle;\n",
              "    }\n",
              "\n",
              "    .dataframe tbody tr th {\n",
              "        vertical-align: top;\n",
              "    }\n",
              "\n",
              "    .dataframe thead th {\n",
              "        text-align: right;\n",
              "    }\n",
              "</style>\n",
              "<table border=\"1\" class=\"dataframe\">\n",
              "  <thead>\n",
              "    <tr style=\"text-align: right;\">\n",
              "      <th></th>\n",
              "      <th>Review</th>\n",
              "      <th>Rating</th>\n",
              "      <th>Sentiment</th>\n",
              "    </tr>\n",
              "  </thead>\n",
              "  <tbody>\n",
              "    <tr>\n",
              "      <th>0</th>\n",
              "      <td>Dulpicte watch</td>\n",
              "      <td>5.0</td>\n",
              "      <td>Negative</td>\n",
              "    </tr>\n",
              "    <tr>\n",
              "      <th>1</th>\n",
              "      <td>Perfect in this range👍</td>\n",
              "      <td>5.0</td>\n",
              "      <td>Negative</td>\n",
              "    </tr>\n",
              "    <tr>\n",
              "      <th>2</th>\n",
              "      <td>Guys do read this review, hope it might help b...</td>\n",
              "      <td>5.0</td>\n",
              "      <td>Negative</td>\n",
              "    </tr>\n",
              "    <tr>\n",
              "      <th>3</th>\n",
              "      <td>nice watch for boys for personality maintenance</td>\n",
              "      <td>5.0</td>\n",
              "      <td>Negative</td>\n",
              "    </tr>\n",
              "    <tr>\n",
              "      <th>4</th>\n",
              "      <td>Very big dial</td>\n",
              "      <td>4.0</td>\n",
              "      <td>Negative</td>\n",
              "    </tr>\n",
              "    <tr>\n",
              "      <th>5</th>\n",
              "      <td>Value for money</td>\n",
              "      <td>5.0</td>\n",
              "      <td>Negative</td>\n",
              "    </tr>\n",
              "    <tr>\n",
              "      <th>6</th>\n",
              "      <td>excellent watch big dial watch is beyond our e...</td>\n",
              "      <td>5.0</td>\n",
              "      <td>Negative</td>\n",
              "    </tr>\n",
              "    <tr>\n",
              "      <th>7</th>\n",
              "      <td>really looking nice,,,,</td>\n",
              "      <td>5.0</td>\n",
              "      <td>Negative</td>\n",
              "    </tr>\n",
              "    <tr>\n",
              "      <th>8</th>\n",
              "      <td>awesome watch by flipkart super fast service. ...</td>\n",
              "      <td>5.0</td>\n",
              "      <td>Negative</td>\n",
              "    </tr>\n",
              "    <tr>\n",
              "      <th>9</th>\n",
              "      <td>perfect</td>\n",
              "      <td>4.0</td>\n",
              "      <td>Negative</td>\n",
              "    </tr>\n",
              "  </tbody>\n",
              "</table>\n",
              "</div>\n",
              "      <button class=\"colab-df-convert\" onclick=\"convertToInteractive('df-05f6ed5f-bd96-4856-84e3-da68c78bf301')\"\n",
              "              title=\"Convert this dataframe to an interactive table.\"\n",
              "              style=\"display:none;\">\n",
              "        \n",
              "  <svg xmlns=\"http://www.w3.org/2000/svg\" height=\"24px\"viewBox=\"0 0 24 24\"\n",
              "       width=\"24px\">\n",
              "    <path d=\"M0 0h24v24H0V0z\" fill=\"none\"/>\n",
              "    <path d=\"M18.56 5.44l.94 2.06.94-2.06 2.06-.94-2.06-.94-.94-2.06-.94 2.06-2.06.94zm-11 1L8.5 8.5l.94-2.06 2.06-.94-2.06-.94L8.5 2.5l-.94 2.06-2.06.94zm10 10l.94 2.06.94-2.06 2.06-.94-2.06-.94-.94-2.06-.94 2.06-2.06.94z\"/><path d=\"M17.41 7.96l-1.37-1.37c-.4-.4-.92-.59-1.43-.59-.52 0-1.04.2-1.43.59L10.3 9.45l-7.72 7.72c-.78.78-.78 2.05 0 2.83L4 21.41c.39.39.9.59 1.41.59.51 0 1.02-.2 1.41-.59l7.78-7.78 2.81-2.81c.8-.78.8-2.07 0-2.86zM5.41 20L4 18.59l7.72-7.72 1.47 1.35L5.41 20z\"/>\n",
              "  </svg>\n",
              "      </button>\n",
              "      \n",
              "  <style>\n",
              "    .colab-df-container {\n",
              "      display:flex;\n",
              "      flex-wrap:wrap;\n",
              "      gap: 12px;\n",
              "    }\n",
              "\n",
              "    .colab-df-convert {\n",
              "      background-color: #E8F0FE;\n",
              "      border: none;\n",
              "      border-radius: 50%;\n",
              "      cursor: pointer;\n",
              "      display: none;\n",
              "      fill: #1967D2;\n",
              "      height: 32px;\n",
              "      padding: 0 0 0 0;\n",
              "      width: 32px;\n",
              "    }\n",
              "\n",
              "    .colab-df-convert:hover {\n",
              "      background-color: #E2EBFA;\n",
              "      box-shadow: 0px 1px 2px rgba(60, 64, 67, 0.3), 0px 1px 3px 1px rgba(60, 64, 67, 0.15);\n",
              "      fill: #174EA6;\n",
              "    }\n",
              "\n",
              "    [theme=dark] .colab-df-convert {\n",
              "      background-color: #3B4455;\n",
              "      fill: #D2E3FC;\n",
              "    }\n",
              "\n",
              "    [theme=dark] .colab-df-convert:hover {\n",
              "      background-color: #434B5C;\n",
              "      box-shadow: 0px 1px 3px 1px rgba(0, 0, 0, 0.15);\n",
              "      filter: drop-shadow(0px 1px 2px rgba(0, 0, 0, 0.3));\n",
              "      fill: #FFFFFF;\n",
              "    }\n",
              "  </style>\n",
              "\n",
              "      <script>\n",
              "        const buttonEl =\n",
              "          document.querySelector('#df-05f6ed5f-bd96-4856-84e3-da68c78bf301 button.colab-df-convert');\n",
              "        buttonEl.style.display =\n",
              "          google.colab.kernel.accessAllowed ? 'block' : 'none';\n",
              "\n",
              "        async function convertToInteractive(key) {\n",
              "          const element = document.querySelector('#df-05f6ed5f-bd96-4856-84e3-da68c78bf301');\n",
              "          const dataTable =\n",
              "            await google.colab.kernel.invokeFunction('convertToInteractive',\n",
              "                                                     [key], {});\n",
              "          if (!dataTable) return;\n",
              "\n",
              "          const docLinkHtml = 'Like what you see? Visit the ' +\n",
              "            '<a target=\"_blank\" href=https://colab.research.google.com/notebooks/data_table.ipynb>data table notebook</a>'\n",
              "            + ' to learn more about interactive tables.';\n",
              "          element.innerHTML = '';\n",
              "          dataTable['output_type'] = 'display_data';\n",
              "          await google.colab.output.renderOutput(dataTable, element);\n",
              "          const docLink = document.createElement('div');\n",
              "          docLink.innerHTML = docLinkHtml;\n",
              "          element.appendChild(docLink);\n",
              "        }\n",
              "      </script>\n",
              "    </div>\n",
              "  </div>\n",
              "  "
            ]
          },
          "metadata": {},
          "execution_count": 43
        }
      ]
    },
    {
      "cell_type": "code",
      "source": [
        "import nltk"
      ],
      "metadata": {
        "id": "6r8MTzmTd9xR"
      },
      "execution_count": null,
      "outputs": []
    },
    {
      "cell_type": "code",
      "source": [
        "nltk.download('stopwords')"
      ],
      "metadata": {
        "colab": {
          "base_uri": "https://localhost:8080/"
        },
        "id": "RlRH7Bmjg8Sb",
        "outputId": "eb59ec01-d9a1-4084-9619-27e4766ce793"
      },
      "execution_count": null,
      "outputs": [
        {
          "output_type": "stream",
          "name": "stderr",
          "text": [
            "[nltk_data] Downloading package stopwords to /root/nltk_data...\n",
            "[nltk_data]   Unzipping corpora/stopwords.zip.\n"
          ]
        },
        {
          "output_type": "execute_result",
          "data": {
            "text/plain": [
              "True"
            ]
          },
          "metadata": {},
          "execution_count": 45
        }
      ]
    },
    {
      "cell_type": "code",
      "source": [
        "from nltk.corpus import stopwords\n",
        "from nltk.stem.porter import PorterStemmer\n",
        "ps=PorterStemmer()\n",
        "all_stopwords=stopwords.words(\"english\")\n",
        "all_stopwords.remove('not')"
      ],
      "metadata": {
        "id": "v8gjkSi1hApU"
      },
      "execution_count": null,
      "outputs": []
    },
    {
      "cell_type": "code",
      "source": [
        "corpus=[]\n",
        "for i in range(0,671):\n",
        "  review=re.sub('[^a-zA-Z]',' ',df_all['Review'][i])\n",
        "  review=review.lower()\n",
        "  review=review.split()\n",
        "  review=[ps.stem(word) for word in review if not word in set(stopwords.words('english'))]\n",
        "  review=' '.join(review)\n",
        "  corpus.append(review)"
      ],
      "metadata": {
        "id": "XgAk6jyJhGIZ"
      },
      "execution_count": null,
      "outputs": []
    },
    {
      "cell_type": "code",
      "source": [
        "corpus"
      ],
      "metadata": {
        "colab": {
          "base_uri": "https://localhost:8080/"
        },
        "id": "AChE1zVShR1b",
        "outputId": "765cd6eb-5fc9-48ee-fe2b-e6078d50b953"
      },
      "execution_count": null,
      "outputs": [
        {
          "output_type": "execute_result",
          "data": {
            "text/plain": [
              "['dulpict watch',\n",
              " 'perfect rang',\n",
              " 'guy read review hope might help buy product product come good packag insid box get watch user manual watch resist upto e watch water resist suitabl contact splash rain swim dive watch batteri come guarante valid year date purchas watch come guarante month date purchas conditio',\n",
              " 'nice watch boy person mainten',\n",
              " 'big dial',\n",
              " 'valu money',\n",
              " 'excel watch big dial watch beyond expect realli good watch price goe fastrack showroom get one watch stock seen flipkart book immedi valu money superb quantiti genuin origin',\n",
              " 'realli look nice',\n",
              " 'awesom watch flipkart super fast servic thank flipkart',\n",
              " 'perfect',\n",
              " 'look cool size head littl bit larg otherwis super cool casual watch price rang',\n",
              " 'super qualitynic look',\n",
              " 'super gud look fast deliveri',\n",
              " 'good qualiti comfort wear perfect watch classi peopl glass need protect',\n",
              " 'belt vri nice n got orgin product',\n",
              " 'look dull',\n",
              " 'super design pic super fast deliveri thnq much happi custom',\n",
              " 'nice',\n",
              " 'feel look primium amaz',\n",
              " 'realli awesom product also appreci fast deliv',\n",
              " 'good watch valu money thanx manjunath good guy',\n",
              " 'nice watch',\n",
              " 'nice watch nice comfort fast deliveri flipkart excel',\n",
              " 'awesom see wear',\n",
              " 'superb one satisfactori product',\n",
              " 'good paisa vasul',\n",
              " 'realli like look size give preminum look',\n",
              " 'simpl class',\n",
              " 'awesom product feel awesom look good black matt finish lightweight less weight hand watch type compani thing deliveri delay lot got order nearli day order reat everyth k',\n",
              " 'impress fall love',\n",
              " 'nice',\n",
              " 'good',\n",
              " 'shown',\n",
              " 'love',\n",
              " 'awesom',\n",
              " 'nice watch highli recommend fast deliveri flipkart origin product love',\n",
              " 'next day deliveri fast thank fliepkart product awesom price n deliveri boy friendli thank n happi purchas',\n",
              " 'total nice watch happi product',\n",
              " 'product good n like',\n",
              " 'nice build qualiti',\n",
              " 'nice product',\n",
              " 'gud watch',\n",
              " 'use month would recommend peopl look decent watch price rang go blindli qualiti wise design wise well look wise outstand',\n",
              " 'kinda cool look rubber feel good im sure stay like soft rubber vulner scratch wear tear genuin product get year warranti year free batteri swap date purchas steal',\n",
              " 'awsom',\n",
              " 'look grate satisfi',\n",
              " 'great colour kinda darker demo pictur darker realli better big size ladi better compar size fastrack real site make deal',\n",
              " 'awesom product birthday gift',\n",
              " 'love',\n",
              " 'cool aesthet look well stylish love',\n",
              " 'awesom look sooper coool',\n",
              " 'amaz watch low price look classi sturdi belt also realli good dial slightli big size look big simpli go',\n",
              " 'good qualiti classi product worth money simpli love',\n",
              " 'look stylish premium rubber strap soft comfort dial soze nice big draw back grey strap holder visibl big deal go',\n",
              " 'long time use watch great work better look thank flipkart nice price',\n",
              " 'fantast product fastrack bang absolut love superb qualiti superb price p recommend guy gal extrem thin hand',\n",
              " 'awesom product quit good look bigger dial fastrack thank flipkart introduc thank retailnet wonder servic good price budget',\n",
              " 'worth money superb product love one got rs',\n",
              " 'good product',\n",
              " 'look nice',\n",
              " 'good product go',\n",
              " 'nice product price thank flipkart',\n",
              " 'look slim photo littl big thick real',\n",
              " 'excel product fast deliveri deliveri person good behavior happi flipkart',\n",
              " 'nice product love',\n",
              " 'fabul product nice strap soft comfort',\n",
              " 'look nice fit good',\n",
              " 'shown love',\n",
              " 'high perform good looksdur doubt fastrack awesom look watch awesom',\n",
              " 'good product got bbdstill feel culd betterstil good watch good brand',\n",
              " 'nice watch glad',\n",
              " 'plain vanilla wristwatch beauti made pleas blue color belt made rubber hope break easili excel product fastrack happi receiv',\n",
              " 'life move time',\n",
              " 'osm product high look',\n",
              " 'awesom product thank flipkart lightn fast deliveri',\n",
              " 'order husband birthday felt happi love watch love moreeeee thank u flip kart',\n",
              " 'gift boyfriend love lot watch look classi wrist materi strap soft seem durabl overal worth buy go',\n",
              " 'awesom watch star',\n",
              " 'excel',\n",
              " 'made display glass littl durabl way plastic look amaz feel like heaven soft comfort wear day everi day use formal casual wear semi formal look casual feel',\n",
              " 'gift watch someon birthday sure weather like opinion best option',\n",
              " 'dial bigger expect',\n",
              " 'qualiti unbeliev',\n",
              " 'amaz must buy product super buy jan still also work like new watch',\n",
              " 'osm product make simpl look buy',\n",
              " 'nice watch',\n",
              " 'super classi budget watch fashion give eleg look light weight smooth fit wrist good qualiti strap',\n",
              " 'awesom',\n",
              " 'nice prodect',\n",
              " 'classi',\n",
              " 'hate',\n",
              " 'good product origin big wrist thin',\n",
              " 'super',\n",
              " 'nice product happi got',\n",
              " 'watch perfect give amaz feel hand simpli love design qualiti thank flipkart superfast deliveri big billion day',\n",
              " 'nice product look cool',\n",
              " 'nice',\n",
              " 'osm qualiti',\n",
              " 'perfect watch perfect feel',\n",
              " 'look awesom good product',\n",
              " 'awsm go',\n",
              " 'fantast',\n",
              " 'good qualiti',\n",
              " 'awesom actual big guy like see',\n",
              " 'use one month test rain still work good price best option ya upper glass watch got fine scratch mention imag best watch find k',\n",
              " 'nice watchgood lookingbest qualiti product',\n",
              " 'low qualiti',\n",
              " 'look watch nice watch look good casual formal cloth pro look good design modal good comfort good look casual formal clothescor qualiti belt per expect',\n",
              " 'awesom watchwith big deal great minimalist colour combin',\n",
              " 'good product fast deliveri',\n",
              " 'awesom product must',\n",
              " 'amaz',\n",
              " 'great size larg color also white grey',\n",
              " 'look nice',\n",
              " 'bad price rang',\n",
              " 'good',\n",
              " 'amaz juz lvd',\n",
              " 'nice look',\n",
              " 'awesom look fastrack watch boat headset colour',\n",
              " 'stylish yet minim look great valu money dial said descript littl bigger look nice heavi deliv less hr thank flipkart importantli made india',\n",
              " 'nice watch good feel',\n",
              " 'awesom product comfort wear look eleg',\n",
              " 'nice',\n",
              " 'size big boy girl',\n",
              " 'good midrang watch fastrack light weight nd look awesom hand matt black design look great special thank flipkart fast deliveri nd day return polici',\n",
              " 'realli like big dial eventhough parent want wear one product reach need product nice thing like support strap black friend buy black ash watch exchang support strap mine ash strap support look much cool exactli pictur love thank flipkart',\n",
              " 'match descript pictur',\n",
              " 'qualiti silicon strap good look plain simpl good casual outing watch slim lightweight water resist accord price buyabl trust fastrack good servic network',\n",
              " 'suffici good qualiti servic thank flipkart fastrack',\n",
              " 'osm',\n",
              " 'good product',\n",
              " 'think product need introduct review product brand fastrack know fastrack one best cheapest brand wrist watch wonder budget kind product realli like',\n",
              " 'big watch much good',\n",
              " 'watch complet delight eye well hand funki formal time amaz',\n",
              " 'bad pleas buy',\n",
              " 'order companion watch sure fanci pant come brand name warranti boy happi watch chic look feel make content recommend',\n",
              " 'say great watch price rang good editb care glass bc get scratch easili within month cover scratch decid want month okay price rang longer',\n",
              " 'highli recommend yuath',\n",
              " 'look good stylish feel good hand wen touch glass feel cheep bcoz made plastic good product dont far willb last let see',\n",
              " 'nice watch buy ri',\n",
              " 'awesom',\n",
              " 'watch look beauti littl bigger',\n",
              " 'nice product valu money',\n",
              " 'watch work',\n",
              " 'nice watch',\n",
              " 'big watch hand provid better experi tie soft even feel littl greyish pictur full black real buy problem extra featur like compass simpl watch',\n",
              " 'cool best look trust brand happi purchas watch',\n",
              " 'look eleg yet simpl light weight rubberi strap make easi wear overal worth price got',\n",
              " 'best watch fastrack rs',\n",
              " 'must buy product fastrack thank wonder servic flipkart',\n",
              " 'happi qualiti look feel product got good deal downsid accord weight bare feel weight watch overal great watch casual wearabl definit go',\n",
              " 'also take assum gift father love thank u flipkart',\n",
              " 'look nice feel bulki best one',\n",
              " 'fastrack alway great job make wrist watch reali like cool classic type need hole band belt watch nvr mind guess friend wrist small',\n",
              " 'nice product',\n",
              " 'nice product rs look cool',\n",
              " 'watch light weight good look easi carri bought watch see finish school class middl class',\n",
              " 'nice watch',\n",
              " 'colour contrast look wise watch parti look casual look go fastrack alway keep product mark',\n",
              " 'simpli good',\n",
              " 'finish premium bit difficult identifi time due lack mark',\n",
              " 'best buy qualiti',\n",
              " 'super',\n",
              " 'fashion',\n",
              " 'good',\n",
              " 'awesom product price',\n",
              " 'watch realli good one thing outer glass actual plastic get scratch easili els worth money',\n",
              " 'well alway gravit toward bold minimalist color scheme thing look dial huge good huge dial okay belt made realli high qualiti silicon look like leather leather good thing get much sweati comfort sharp corner hook touch arm good watch price get',\n",
              " 'super watch',\n",
              " 'excel product love look product real watch look beauti compar photo better watch rang also look premium classi look black one extrem valu money product',\n",
              " 'excel watch',\n",
              " 'look good',\n",
              " 'poor qualiti origin fastrack watch',\n",
              " 'qualiti strap dial fabul',\n",
              " 'best watch ever got fastrack much satisfi best thing fastrack model design flipkart thank product',\n",
              " 'bought rs thank flipcart fastrack superbb watch',\n",
              " 'first let tell watch lot bigger expect watch fit thin bit heavi suitabl kid bold stylish overal good product fastrack',\n",
              " 'look nice justic valu money',\n",
              " 'qualiti good realli look cool dial littl bigger expect',\n",
              " 'good product',\n",
              " 'watch truli best buy product got big billion day good price although dial slightli bigger side look bad belt realli stylish feel nice hand verdict get wish',\n",
              " 'wow love watch got watch one best product reciv flipkart love flipkart pleas deliveri servic better',\n",
              " 'like product wonder satisfi product thank',\n",
              " 'awesom watch',\n",
              " 'alway flipkart ekart superb safe deliveri excel product excel price buy one without doubt',\n",
              " 'love',\n",
              " 'great build qualiti smooth strap eleg classi mix sporti look overal price worthi satisfi product',\n",
              " 'origin fastrack wrist watch size larg thin heavi wrist watch good thick wrist rubber band soft comfort good option one buy',\n",
              " 'like watch basic n simpl look n good qualti belt n also good product',\n",
              " 'scratch appear watch day use also flipkart refus return watch',\n",
              " 'happi watch slightli disappoint becoz colour watch page describ strap colour white grey color receiv guy worth money best watch',\n",
              " 'great fit minimalist design strap soft good buy budget price atleast one watch like watch collect',\n",
              " 'good look watch',\n",
              " 'look goodplzz give color option product',\n",
              " 'realli nice brought hubbi happi tq',\n",
              " 'terrif watch perfectli fit wrist colour expect satisfi best collect fastrack tee ever one confus buy product get confus price worth product love',\n",
              " 'trust compani fastrack watch good issu anyth',\n",
              " 'worst experi clock work within one month',\n",
              " 'product good light metal bodi place plastic pretti good',\n",
              " 'deliveri took around day reach watch realli good nice comfort wear',\n",
              " 'awesom like qualiti everyth',\n",
              " 'fastback watch nice also comfort wear',\n",
              " 'superb',\n",
              " 'awesom love gift',\n",
              " 'nice product also nice look',\n",
              " 'work',\n",
              " 'good see nice interest buy watch low price love lot prabhu',\n",
              " 'love',\n",
              " 'good product',\n",
              " 'nice',\n",
              " 'product good stylish',\n",
              " 'nice watch',\n",
              " 'awesom noth',\n",
              " 'nice stylish watch although low price rang look amaz compar fastrack wrist watch rang worth buy',\n",
              " 'realli good nd look attract thank u flipkart',\n",
              " 'good product',\n",
              " 'awesom product qualiti strap soft light weight design decent style eye catchi price alway genuin flipkart',\n",
              " 'realli cool watch',\n",
              " 'worth money',\n",
              " 'good qualiti product fastrack use compani watch sinc mani year give handi good product afford price',\n",
              " 'good product like much look great feel good best valu money thank flipkart',\n",
              " 'supob',\n",
              " 'qualiti watch good also look awesom love watch size perfect recommend buy watch best product fastrack',\n",
              " 'excel fast deliveri thank flipkart',\n",
              " 'simpli superb light weight big feel like noth hand',\n",
              " 'fabul watch classi trendi one go',\n",
              " 'superb watch love time decid good till perfect',\n",
              " 'awesom watch luk gentl weightless valu money suggest everyon',\n",
              " 'fantast',\n",
              " 'overal usag look product good decent design good look good strap qualiti soft wear hurt time last main thing price bought rs worth paid money',\n",
              " 'awesom watch genuin deliveri expect',\n",
              " 'watch realli goodgo',\n",
              " 'simpl eleg nice look strap materi flexibl like lot highli recommend wrist watch k',\n",
              " 'believ great deal use satisfi fastrack product',\n",
              " 'thank flipkart speedi deliveri packag great talk watch simpl big dial person love big dial great smooth rubber band light weight well date dial could ad advantag compla receiv watch discount latest bbd color black go ahead',\n",
              " 'nice one attent look',\n",
              " 'awesom',\n",
              " 'dark colour still amaz love',\n",
              " 'ok scrath dial screen',\n",
              " 'watch pack best watch damag watch good work nice deliveri boy talk love',\n",
              " 'nice',\n",
              " 'nice watch',\n",
              " 'watch good one problem dial big good averag wrist like big dial watch must go',\n",
              " 'good watch good design good feel good budget',\n",
              " 'great product got worth price go simpl n feel good hand',\n",
              " 'product qualiti good enjoy product thank flipkart',\n",
              " 'defrent product dammag verrt low qualiti',\n",
              " 'best watch ever',\n",
              " 'nice',\n",
              " 'amaz watch special person life wife like much order insha allah',\n",
              " 'big dial lover sporti look sober design plastic',\n",
              " 'look good',\n",
              " 'good one better price',\n",
              " 'nice product',\n",
              " 'go good watch origin one realli love product pack good faster deliveri servic day kerala ernakulam watch dial size larg small wrist look ok comfort go guy',\n",
              " 'stylish',\n",
              " 'look good genuin product flipkart deliveri time case cash deliveri card payment avail make disappoint',\n",
              " 'awesom product',\n",
              " 'best brand fasttrack like nice watch good condit pack star nice color tnx flipkart',\n",
              " 'quiet good yet impress took less time deliveri',\n",
              " 'vara level',\n",
              " 'great comfort look awesom budget friendli brand support well got deal rs big billion day seal deal thank flipkart',\n",
              " 'big size',\n",
              " 'qualiti okay design good',\n",
              " 'dail design larg',\n",
              " 'like product',\n",
              " 'excel happi product',\n",
              " 'best thing like soft strap good pack light weight good look worth money nd best st fastback aveng edit',\n",
              " 'faiz q experi best product good qualiti thank flipkart',\n",
              " 'write review year watch pretti good design super build qualiti nice light weight perfect teenag cool dial littl bit big u r healthi u although satisfi even year without chang cell spend singl penni year',\n",
              " 'good look',\n",
              " 'realli awesom look good like given pictur star best fast rack flip kart',\n",
              " 'best one request reduc dial size',\n",
              " 'nice classic watch formal use',\n",
              " 'think much go qualiti awesom',\n",
              " 'nice look',\n",
              " 'dial big girl hand still look good give sporti cool lookgo kinda product',\n",
              " 'nice watch',\n",
              " 'highli recommend',\n",
              " 'good look watch',\n",
              " 'comfot watch',\n",
              " 'like',\n",
              " 'uniqu good qualiti',\n",
              " 'give gentl look simpli superb product feel comfort',\n",
              " 'awesom qualiti colour look great dial good year realli look great wuth casual',\n",
              " 'nice watchnot much costli',\n",
              " 'good work properli',\n",
              " 'amaz watch use year design wise realli classi fan minim aesthet love black design qualiti give away fact reason price overal satisfi',\n",
              " 'nice look nd awesom product',\n",
              " 'good look watch watch strap rubber good size buy without queri',\n",
              " 'best',\n",
              " 'kind watch look mani day watch feel brilliant strap super soft high qualiti dial simpl minim indic model name look great hand',\n",
              " 'qualiti piec',\n",
              " 'good product nyz qualitybut size big',\n",
              " 'look feel like ossam qualiti best one thing belt watch nice feel like smooth hand',\n",
              " 'nice product thank flipkart',\n",
              " 'awesom watch actual color watch dark ash pic shown light color amaiz work fastrack big dial watch best reciev product within day great work flipkart',\n",
              " 'good product budget custom look better even blackish peopl would say ye u buy',\n",
              " 'nice one',\n",
              " 'yaa gud',\n",
              " 'product goodsur go butdeliveri time flipkart disappoint flipkart delay deliveri',\n",
              " 'cool watch one must tri',\n",
              " 'excel custom',\n",
              " 'good one order like',\n",
              " 'awesom watch qualiti good look nice total watch superb thank flipkart nice deliveri',\n",
              " 'buy go casual sporti look go well formal rubber strap decent qualiti howev want normal size dial dial bit larger side',\n",
              " 'wow',\n",
              " 'nice product like',\n",
              " 'awesom watch price rang simpli love',\n",
              " 'qualiti nice',\n",
              " 'realli like wrist watch fabul look also good also function good fastrack',\n",
              " 'perfect watch use sept even singl issu face genuin yu go watch',\n",
              " 'fabul product price rang light weight feel like wear anyth qualiti strip materi awesom shown pic got definit worth everi penni',\n",
              " 'product awesom cool upto style far great product',\n",
              " 'nice',\n",
              " 'great product size big',\n",
              " 'asom watch',\n",
              " 'cool one',\n",
              " 'amaz love lot',\n",
              " 'good one colour littl blur op',\n",
              " 'good qualiti product',\n",
              " 'nice watch soft',\n",
              " 'thank receiv',\n",
              " 'good watch good qualiti',\n",
              " 'purchas gift guy realli like els want good qualiti dial perfectli size',\n",
              " 'gift wife unisex product thought get wear sometim like much hide simpl eleg bold tip dial big small wrist unless like big dial carri',\n",
              " 'best watch rang price',\n",
              " 'look awesom realli good product bought boyfriend love',\n",
              " 'much good',\n",
              " 'excel watch size big',\n",
              " 'nice',\n",
              " 'good',\n",
              " 'everyth great price find watch better price worth everi penni',\n",
              " 'look awesom hand',\n",
              " 'good one',\n",
              " 'wonder product never purchas model nice look look nice free comfort wear',\n",
              " 'good product like much look great feel good best valu money thank flipkart',\n",
              " 'worth abl price',\n",
              " 'fastrack alway rock doubtit also great look stylish feel',\n",
              " 'nice watch',\n",
              " 'nice product flipkart',\n",
              " 'superb qualiti design fabul fastrack',\n",
              " 'clean neat design watch qualiti strap fix dial feel premium worth money spend grey band strap feel awesom add black watch whole great buy worth everi rupe bought watch',\n",
              " 'big',\n",
              " 'super qualiti price',\n",
              " 'good product water proof',\n",
              " 'watch look gud build qualiti averag',\n",
              " 'nice product awesom deliveri flipcart',\n",
              " 'good product worth everi penni good deal price rang',\n",
              " 'good enough like nice materi worth ruppe go',\n",
              " 'mast amaz good nice great cool p p p p p',\n",
              " 'good',\n",
              " 'good',\n",
              " 'amaz product expect realli good one thank flipkart good earli servic',\n",
              " 'nice product happi',\n",
              " 'cool',\n",
              " 'qualiti realli aswm feel good look better hand size good fair like wear buy',\n",
              " 'great product rs good one casual puros match tshirt dont expect qualiti fastrack premium watch still good qualiti strap',\n",
              " 'say total impress pack n deliveri time realli tankq flipkart gvng time deliveri n genuin product n wit lot love tankq flipkart trust brand n super fast deliveri',\n",
              " 'excel product fastrack brand valu everyon see like bought raini season found excel choic good',\n",
              " 'osm watch look gorgeou',\n",
              " 'fantast design medium rang love watch fastrack gift friend realli like larg dial watch sure recommend other',\n",
              " 'nice product rs feel well awesom',\n",
              " 'super watch trust popular brand fastrack also recommend student buyer happi buy get memor experi part life',\n",
              " 'thank much flipkartu made daythat person happi order watch wanna say love youwatch amaz designit give classi look amazinglov flipkart',\n",
              " 'superb go guyz',\n",
              " 'stylish comfort expect',\n",
              " 'nyc watch',\n",
              " 'use sinc regularli honestli issu watch total valu moneyit simpl stylish watch colour amaz somehow think price littl high materi dial strap materi superb qualiti happi flipkart fastrack',\n",
              " 'feel good wrist',\n",
              " 'masterpiec featur',\n",
              " 'look realli good fashion stylish thank u flipkart',\n",
              " 'excel product',\n",
              " 'love watch compromis qualiti watch nice watch',\n",
              " 'cute',\n",
              " 'awesom watch great qualiti rang belt durabl look realli cool',\n",
              " 'nice watch belt feel like premium genuin product short marvel',\n",
              " 'look like wonder',\n",
              " 'wonder',\n",
              " 'good product',\n",
              " 'averag',\n",
              " 'product awesom realli love thank much flipkart best qualiti product product worth rs',\n",
              " 'nice watch look good wear good qualiti worth satisfi got',\n",
              " 'watch pretti good look feel classic hand thank flipkart',\n",
              " 'awesom watch relev prize',\n",
              " 'price best watch look stylish watch buy fantast realli happi product',\n",
              " 'awesom look qualiti much good good watch rs',\n",
              " 'nice',\n",
              " 'got feel good',\n",
              " 'amaz',\n",
              " 'love',\n",
              " 'month usag watch look minimalist good feel comfi good wrist strap feel nice soft valu money might bigger side person smaller wrist size satisfi product packag flipkart',\n",
              " 'good',\n",
              " 'awesom watch easi smooth wear like part delic gave star like watch first brand watch',\n",
              " 'look good',\n",
              " 'nice watch cool look funki classic feel watch qualiti overal good even though recommend outdoor use get scratch often price rang realli good choic',\n",
              " 'worth buy ju lub qualiti n design',\n",
              " 'good qualiti like',\n",
              " 'order watch get deliv day watch overal okok good bad doesnt qualiti expect qualiti mirror good compar watch easili get scratch mark handl care overal product worth buy look watch',\n",
              " 'great product trendi express realli stylish vibrantif love matt like trend go',\n",
              " 'good product',\n",
              " 'realli like big dial eventhough parent want wear one product reach need product nice thing like support strap black friend buy black ash watch exchang support strap mine ash strap support look much cool exactli pictur love thank flipkart',\n",
              " 'nice',\n",
              " 'nice product tension deliveri fastrack trust trust flikart guy wannna buy watch go use month satisfi',\n",
              " 'good one',\n",
              " 'well iam impress lot ask fake wonder price anyway iam satisfi product thankz flipcart fast door deliveri',\n",
              " 'great qualiti product seen book product thing receiv happi',\n",
              " 'good watch good brand reason good low price',\n",
              " 'good worth good gift someon',\n",
              " 'well cool look feel nice like fact got origin watch fast track nice price appreci servic',\n",
              " 'look good classi look friend like product ask order link',\n",
              " 'good happi',\n",
              " 'great product afford price rang need display inform dial size receiv watch larg wrist size els everyth fine',\n",
              " 'classic design analog watch best price point love watch recommend u purchas regret',\n",
              " 'awesom product love',\n",
              " 'awesom watch go bought',\n",
              " 'awesom product fastrack',\n",
              " 'good qualiti love',\n",
              " 'good',\n",
              " 'happi',\n",
              " 'nice watch brother likd',\n",
              " 'belt qualiti poor',\n",
              " 'favourit watch love',\n",
              " 'good watch peopl want buy belw rs dial larg overal satisfactori product worth price',\n",
              " 'war colour differ',\n",
              " 'awesom product',\n",
              " 'instead glass watch acryl given bad qualiti',\n",
              " 'sexi',\n",
              " 'one best price rang dial larg suitabl skinni hand finish mark qualiti one good thing watch like like formal sport watch',\n",
              " 'suprb mainli style',\n",
              " 'love superb good qualiti good teenag student fast deliveri good pack thank flipkart',\n",
              " 'good look stylish watch segment u r look cool watch k go',\n",
              " 'bought brother happi see watch qualiti good thank',\n",
              " 'good price simpl yet elig',\n",
              " 'qualiti bad way return',\n",
              " 'use secondari watch',\n",
              " 'awesom product',\n",
              " 'good watch regular use',\n",
              " 'nyc watch price rang go easili year',\n",
              " 'excel watch nice design correct fit lookwis awesom cool yar love fastrack gud price good deliveri',\n",
              " 'superb product love',\n",
              " 'realli nice got love',\n",
              " 'alway want fast track watch without break wallet one perfect colleg student look simpl wear look stylish give attract look arm dial size definit avg small arm wrist watch',\n",
              " 'amaz product love use watch ruff use get hand everyth even dirti work watch give better look hand comfort buy product time good',\n",
              " 'superb look qualiti',\n",
              " 'good product',\n",
              " 'price good product',\n",
              " 'ultim item',\n",
              " 'good nd nice lookng handi',\n",
              " 'excel watch',\n",
              " 'genuin product good brand perform nice look cool comfort strap soft happi awesom product price rang love one must buy product',\n",
              " 'nice',\n",
              " 'watch marvel look like except',\n",
              " 'nice',\n",
              " 'outstand love thank',\n",
              " 'nice watch look better imag look bit big dial watch right choic',\n",
              " 'perfect gift materi',\n",
              " 'good price',\n",
              " 'osm product go guy',\n",
              " 'nice shown pictur',\n",
              " 'watch good pack bad',\n",
              " 'good look premium valu money',\n",
              " 'want full consses watch good',\n",
              " 'watch good taken lot time deliv nearli day',\n",
              " 'good look stylish well inner stylish attr strap add look togeth',\n",
              " 'awsm',\n",
              " 'wast product watch work',\n",
              " 'worst recommend',\n",
              " 'fav excel finish stylish look overal ok dail size medium',\n",
              " 'awesom thnx flipkart',\n",
              " 'men watch luk gud fo women toooo simpl yet sporti luvd',\n",
              " 'goof',\n",
              " 'cool n staylish',\n",
              " 'happi product thank flipkart',\n",
              " 'nice product bole tohhh faadduu',\n",
              " 'awesom watch price rang fastrack watch awesom',\n",
              " 'minut dial watch becom bad within day rotat shake watch',\n",
              " 'amaz watch great price packag well deliveri time happi product worth money',\n",
              " 'good price rang go',\n",
              " 'awesom',\n",
              " 'wow amaz comfort nice strap great design fastrack amaz look',\n",
              " 'best product ever awesom look best choic want gift someon gift best friend happi',\n",
              " 'like glass qualiti poor otherwis strap soft n design look nice perfect gift',\n",
              " 'got watch rs happi product size big normal hand want watch daili use qualiti great k hisaab se best watch feel comfort hand light also packag also good thank flipkart took pictur low light watch matt finish',\n",
              " 'genuin product fast track afford price realli like expect much',\n",
              " 'watch good',\n",
              " 'valu money',\n",
              " 'nice product thank flipkart quick deliveri',\n",
              " 'product good qualiti excel recommend women size dail larg larg men also',\n",
              " 'nice product',\n",
              " 'good',\n",
              " 'worri size big mm width watch definit satisfi watch bought offer session satisfi',\n",
              " 'awesom watch dial big colour good light weight around g strap soft go',\n",
              " 'good product feel lite good qualiti price',\n",
              " 'look supab brand supab supab',\n",
              " 'good qualiti',\n",
              " 'good product',\n",
              " 'nice product good finish like product much thank',\n",
              " 'good product price',\n",
              " 'fab look',\n",
              " 'excel qualiti quit nice design go',\n",
              " 'nobe chang time hurt dial extra larg fit good rubber strap comfort itch start hour tic tic sound come watch',\n",
              " 'fantast',\n",
              " 'nice one',\n",
              " 'happi',\n",
              " 'awesom pic',\n",
              " 'nice',\n",
              " 'exel product love',\n",
              " 'good qualiti origin product overal look awesom thank flipkart',\n",
              " 'excel product',\n",
              " 'fast deliv flipcart thank flipcart product',\n",
              " 'nice product',\n",
              " 'qualiti good dilevri let look good',\n",
              " 'expect time good product littl bigger size comfort wear happi product thank flipkart',\n",
              " 'product good watch grip color bad',\n",
              " 'fast deliveri servic awe awesom watch',\n",
              " 'nice one realli love',\n",
              " 'good product student well packag flipkart would request flipkart fast deliveri area saroj',\n",
              " 'good watch price rang feel good hand look stylish great product bought brother love thanku flipkart fastrack',\n",
              " 'fall love watch light weight classi look highli recommend',\n",
              " 'good use',\n",
              " 'excel product',\n",
              " 'got mani scratch day',\n",
              " 'good',\n",
              " 'wrist watch lit love product build qualiti awesom think coolest best product price segment',\n",
              " 'nice',\n",
              " 'osm look',\n",
              " 'best',\n",
              " 'best product go guy look fabul got rs sale thnxx flipkart',\n",
              " 'product beauti colour oh god actual product good buy',\n",
              " 'watch good qualiti look good u wear daili workit give decent look',\n",
              " 'order day yesterday receiv today watch awesom better smartband fit tracker want look face watch awesom feel realist excel watch edit month usag neg result thing got know water resist also knew got confirm result expect fastrack',\n",
              " 'valu money',\n",
              " 'wonder',\n",
              " 'ultim quantitybest watch k',\n",
              " 'superb watch look exactli',\n",
              " 'minimalist perfect qualiti smooth materi fantast design good pack prefer',\n",
              " 'super brand nice',\n",
              " 'amaz product go without second thought',\n",
              " 'awesom product love',\n",
              " 'nice valu money',\n",
              " 'un satisfact',\n",
              " 'problem find timeit task nice handsom product good',\n",
              " 'low qualiti product',\n",
              " 'gift th watch realli look like nice wear casual formal also thank flipkart exact time deliveri',\n",
              " 'great watch price segment soft materi littl bulki kind sporti look',\n",
              " 'good one product realli happi',\n",
              " 'good',\n",
              " 'good',\n",
              " 'nice awesom black finish light weight style fire brother fastrack done great job also deliveri fast good packag pack love go best qualiti colour look',\n",
              " 'fashion afford realli good thank flipkart',\n",
              " 'good product',\n",
              " 'product work condit',\n",
              " 'nyc budget watch',\n",
              " 'last day got watch deliveri quick one order brother like friend also like look watch simpl attract wrist mode awesom nice also fashion',\n",
              " 'awesom product quit good look bigger dial fastrack thank flipkart introduc thank retailnet wonder servic',\n",
              " 'good',\n",
              " 'fantast watch look awesom watch give us date look awesomei use watch year month day awesom fulli waterproof realli like',\n",
              " 'nice watch love',\n",
              " 'nice product good qualiti',\n",
              " 'great excel good product trust flipkart',\n",
              " 'nice watch cheap best',\n",
              " 'awesom product look cool wrist make extra hole bcoz wrist thin watch super cool',\n",
              " 'thing beauti sooooooft premium perfect u buy love satisfi thank',\n",
              " 'good product packag good watch outsid metal kind box watch look good',\n",
              " 'excel watch',\n",
              " 'watch cool great design pack nice thank contain',\n",
              " 'nice comfort big dial waterproof long last featur might littl weight',\n",
              " 'awsm product',\n",
              " 'good',\n",
              " 'nice product rupe',\n",
              " 'nice watch boat highli recommend behalf talk design simpl fashion sturdi aspect side definit buy watch want also share one thing experienc last coupl day gone exam digit watch allow due watch allow sit exam simpl watch want thing experi',\n",
              " 'worth money',\n",
              " 'overal qualiti nice dial big recommend peopl thin wrist look good size watch larg heavi comfort daili use',\n",
              " 'good look nice simpl design look good perfect low budget watch fastrack worth money',\n",
              " 'nice clear',\n",
              " 'fantast',\n",
              " 'excel nice look great qualiti ador price',\n",
              " 'good one',\n",
              " 'like watch nice nd deliveri boy also humbl nd well behav',\n",
              " 'watch work',\n",
              " 'amaz gift friend birthday like much thank flipkart',\n",
              " 'good look',\n",
              " 'nyc watch love',\n",
              " 'awesom watch love see gave watch bf like much',\n",
              " 'look great build qualiti good mistak drop watch mitter hight watch mechan work',\n",
              " 'watch much light weight flexibl worth spend must say fast track good collect analog watch would recommend watch other thank regard',\n",
              " 'amaz product fastracki recommend make productsand worth producti absolut satisfi product',\n",
              " 'amaz product nice look nice qualiti nice watch happi buy',\n",
              " 'like fastrack',\n",
              " 'nyc product good pack fastrack box good use men women',\n",
              " 'show man woman ideal men becous dail larg women orther wise good',\n",
              " 'awesom',\n",
              " 'superb watch expect beauti watch afford rang must go fir big dual rare seen low afford price strap materi soft comfort wear',\n",
              " 'realli nice watch rich look n great design go',\n",
              " 'fantast',\n",
              " 'perfect watch u pair anyth great watch especi u teenag scratch easili take care overal nice satisfi product',\n",
              " 'gud product nic look',\n",
              " 'nice watch',\n",
              " 'simpl design fastrack minimalist watch simpl style amaz watch strap good seem worth price whole bodi great reali love',\n",
              " 'nice watch comfort stylish got plu phonep cash back',\n",
              " 'star box old otherwis feel fabul',\n",
              " 'oh that nice watch',\n",
              " 'good product good daili use best student thank flipkart',\n",
              " 'fastract mean good qualiti averag look ok price r pay brand bt rang ok',\n",
              " 'glass get scrach easili',\n",
              " 'thin wrist peopl',\n",
              " 'ok',\n",
              " 'realli good watch real pictur',\n",
              " 'first flipkart deliv promis yea good bought watch brother love brother super activ sweat lot leather realli work watch strap materi realli agre disintegr go add function big dial sporti look watch realli add realli glad purchas',\n",
              " 'good',\n",
              " 'worth money',\n",
              " 'awesom watch',\n",
              " 'supperb',\n",
              " 'watch nice good like watch',\n",
              " 'watch good order think short ya littl awesom good size good fit',\n",
              " 'love thank fkipkart',\n",
              " 'love',\n",
              " 'good product look nicecomfortablecolour samethank flipcart',\n",
              " 'wish product origin durabl',\n",
              " 'worthi one bought classic cheapest watch worri buy look great elight pictur absolut best',\n",
              " 'worst',\n",
              " 'product nice',\n",
              " 'fabul go',\n",
              " 'wrist size cm good age min good less age cool person overag age good watch price high buy offer comfort',\n",
              " 'look zero frill minimalist watch best bet big enough make bold statement subtl enough go occas',\n",
              " 'qualiti look worth money',\n",
              " 'nice watch',\n",
              " 'fabulouslov fastrack',\n",
              " 'superb perfect excel watch thanx flipkart n fastrack',\n",
              " 'nice',\n",
              " 'super qualiti',\n",
              " 'belt miss bad product',\n",
              " 'awesom',\n",
              " 'size larg suit ladi',\n",
              " 'good product time deliveri',\n",
              " 'look premium',\n",
              " 'nice product',\n",
              " 'nice product happi quick deliveri servic keep good work guy',\n",
              " 'simpl yet stylish got charm realli happi purchas wristwatch flipkart wonder design form fit soft good watch descent price',\n",
              " 'nice product nice color like nice watch',\n",
              " 'good product',\n",
              " 'good',\n",
              " 'perfect',\n",
              " 'nice watch cllg student',\n",
              " 'best hunk',\n",
              " 'mean get give qualiti good like realli good decent look person want pretti good',\n",
              " 'product awesom shown thing men tag appropri small radiu perfect teen kid good men',\n",
              " 'nice product best money prize',\n",
              " 'nice',\n",
              " 'awesom watch suitabl femal well',\n",
              " 'good awesom buy trust flip kart right deliveri time',\n",
              " 'look good dial big might look good small wrist',\n",
              " 'good',\n",
              " 'nice watch buy price transpar cover glass protect scratch better buy watch write review month usag watch realli wonder',\n",
              " 'amaz watch watch lover buy like much may due design clean look',\n",
              " 'awesom watch',\n",
              " 'superb watch love',\n",
              " 'total awesom',\n",
              " 'best watch rs qualiti strap look feel best product',\n",
              " 'realli worth money product infact worth strap materi soft good size dial love realli amaz product fastrack look good gift bro love',\n",
              " 'pleas purchas',\n",
              " 'super watch thise first fastrack watch',\n",
              " 'good',\n",
              " 'dailer size huge consid skinni hand',\n",
              " 'still use watch look perfect purchas',\n",
              " 'gift friend birthday like happi purchas',\n",
              " 'nice watch purchas color look bit greyish realiti black worri purchas worth money dial big enough',\n",
              " 'bought watch gift brother look awesom strap good nice style ty flipcart offer good watch ty ur fast deliveri shown pic good pack',\n",
              " 'smart look',\n",
              " 'baught watch day ago layer rust watch']"
            ]
          },
          "metadata": {},
          "execution_count": 49
        }
      ]
    },
    {
      "cell_type": "code",
      "source": [
        "from sklearn.feature_extraction.text import CountVectorizer\n",
        "cv=CountVectorizer(max_features=1500)\n",
        "x=cv.fit_transform(corpus).toarray()\n",
        "y=df_all['Rating'].values\n"
      ],
      "metadata": {
        "id": "3rOAGLTC7QPi"
      },
      "execution_count": null,
      "outputs": []
    },
    {
      "cell_type": "code",
      "source": [
        "from sklearn.model_selection import train_test_split"
      ],
      "metadata": {
        "id": "ARtdlatAhyMV"
      },
      "execution_count": null,
      "outputs": []
    },
    {
      "cell_type": "code",
      "source": [
        "x_train,x_test,y_train,y_test=train_test_split(x,y,test_size=0.2,random_state=48)"
      ],
      "metadata": {
        "id": "PHtJ0yjghXLD"
      },
      "execution_count": null,
      "outputs": []
    },
    {
      "cell_type": "markdown",
      "source": [
        "**USED DIFFERENT MODELS FOR BEST ACCURACY, HOWEVER BEST ACCURACY WAS OBTAINED IN CASE OF SVM MODEL **"
      ],
      "metadata": {
        "id": "JobUr0hHc-l8"
      }
    },
    {
      "cell_type": "markdown",
      "source": [
        "#SVC=79.25%\n",
        "#GaussianNB=36.29%\n",
        "#MultinomialNB=76.2%\n",
        "#KNeighbors=76.29%\n",
        "#LogisticRegression=74.81%\n"
      ],
      "metadata": {
        "id": "CGg_GRTvEfys"
      }
    },
    {
      "cell_type": "code",
      "source": [
        "from sklearn.svm import SVC\n",
        "classifier=SVC()\n",
        "classifier.fit(x_train,y_train)"
      ],
      "metadata": {
        "colab": {
          "base_uri": "https://localhost:8080/"
        },
        "id": "-j2TlURI-yNX",
        "outputId": "d6837c2e-b3ad-4ddd-8ab2-a379c2357126"
      },
      "execution_count": null,
      "outputs": [
        {
          "output_type": "execute_result",
          "data": {
            "text/plain": [
              "SVC()"
            ]
          },
          "metadata": {},
          "execution_count": 58
        }
      ]
    },
    {
      "cell_type": "code",
      "source": [
        "y_pred=classifier.predict(x_test)"
      ],
      "metadata": {
        "id": "oIWrnZrU_Ntt"
      },
      "execution_count": null,
      "outputs": []
    },
    {
      "cell_type": "code",
      "source": [
        "from sklearn import metrics\n",
        "print(metrics.classification_report(y_test,y_pred))\n"
      ],
      "metadata": {
        "colab": {
          "base_uri": "https://localhost:8080/"
        },
        "id": "zzdqoBCJ_ahO",
        "outputId": "b0d28ae2-9a7c-4aa5-da31-2eedc3b297a3"
      },
      "execution_count": null,
      "outputs": [
        {
          "output_type": "stream",
          "name": "stdout",
          "text": [
            "              precision    recall  f1-score   support\n",
            "\n",
            "         3.0       0.00      0.00      0.00         3\n",
            "         4.0       0.00      0.00      0.00        25\n",
            "         5.0       0.79      1.00      0.88       107\n",
            "\n",
            "    accuracy                           0.79       135\n",
            "   macro avg       0.26      0.33      0.29       135\n",
            "weighted avg       0.63      0.79      0.70       135\n",
            "\n"
          ]
        },
        {
          "output_type": "stream",
          "name": "stderr",
          "text": [
            "/usr/local/lib/python3.8/dist-packages/sklearn/metrics/_classification.py:1318: UndefinedMetricWarning: Precision and F-score are ill-defined and being set to 0.0 in labels with no predicted samples. Use `zero_division` parameter to control this behavior.\n",
            "  _warn_prf(average, modifier, msg_start, len(result))\n",
            "/usr/local/lib/python3.8/dist-packages/sklearn/metrics/_classification.py:1318: UndefinedMetricWarning: Precision and F-score are ill-defined and being set to 0.0 in labels with no predicted samples. Use `zero_division` parameter to control this behavior.\n",
            "  _warn_prf(average, modifier, msg_start, len(result))\n",
            "/usr/local/lib/python3.8/dist-packages/sklearn/metrics/_classification.py:1318: UndefinedMetricWarning: Precision and F-score are ill-defined and being set to 0.0 in labels with no predicted samples. Use `zero_division` parameter to control this behavior.\n",
            "  _warn_prf(average, modifier, msg_start, len(result))\n"
          ]
        }
      ]
    },
    {
      "cell_type": "code",
      "source": [
        "from sklearn.metrics import confusion_matrix\n",
        "cm=confusion_matrix(y_test,y_pred)\n",
        "print(cm)"
      ],
      "metadata": {
        "colab": {
          "base_uri": "https://localhost:8080/"
        },
        "id": "RQnTglvz_59Q",
        "outputId": "b83d67c7-54ba-4acb-ec0b-8c3b2ea81f90"
      },
      "execution_count": null,
      "outputs": [
        {
          "output_type": "stream",
          "name": "stdout",
          "text": [
            "[[  0   0   3]\n",
            " [  0   0  25]\n",
            " [  0   0 107]]\n"
          ]
        }
      ]
    },
    {
      "cell_type": "code",
      "source": [
        "print(metrics.accuracy_score(y_test,y_pred))"
      ],
      "metadata": {
        "colab": {
          "base_uri": "https://localhost:8080/"
        },
        "id": "b6hjIl92AN4G",
        "outputId": "32ccce3f-e166-4168-b04a-90e0c17d793f"
      },
      "execution_count": null,
      "outputs": [
        {
          "output_type": "stream",
          "name": "stdout",
          "text": [
            "0.7925925925925926\n"
          ]
        }
      ]
    },
    {
      "cell_type": "code",
      "source": [
        "#from sklearn.naive_bayes import GaussianNB\n",
        "#classifier=GaussianNB()\n",
        "#classifier.fit(x_train,y_train)"
      ],
      "metadata": {
        "id": "T_aPF6H9AuVN"
      },
      "execution_count": null,
      "outputs": []
    },
    {
      "cell_type": "code",
      "source": [
        "#from sklearn.naive_bayes import MultinomialNB\n",
        "#classifier=MultinomialNB()\n",
        "#classifier.fit(x_train,y_train)"
      ],
      "metadata": {
        "id": "CEm1QNbdDIcm"
      },
      "execution_count": null,
      "outputs": []
    },
    {
      "cell_type": "code",
      "source": [
        "#from sklearn.neighbors import KNeighborsClassifier()\n",
        "#classifier=KNeighborsClassifier()\n",
        "#classifier.fit(x_train,y_train)"
      ],
      "metadata": {
        "id": "P0Fvbu44GcwB"
      },
      "execution_count": null,
      "outputs": []
    },
    {
      "cell_type": "code",
      "source": [
        "#from sklearn.linear_model import LogisticRegression\n",
        "#classifier=LogisticRegression()\n",
        "#classifier.fit(x_train,y_train)"
      ],
      "metadata": {
        "id": "sV6ZP-4JGrdG"
      },
      "execution_count": null,
      "outputs": []
    },
    {
      "cell_type": "code",
      "source": [
        "rev=[\"Very Nice Place,loved it\"]\n",
        "result=model.predict(rev)\n",
        "print(result)"
      ],
      "metadata": {
        "id": "SG_8nGwhn5ko"
      },
      "execution_count": null,
      "outputs": []
    },
    {
      "cell_type": "code",
      "source": [],
      "metadata": {
        "id": "GjaR4AVqoKmP"
      },
      "execution_count": null,
      "outputs": []
    }
  ]
}